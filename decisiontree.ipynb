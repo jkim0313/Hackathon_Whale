{
 "cells": [
  {
   "cell_type": "code",
   "execution_count": 1087,
   "metadata": {},
   "outputs": [
    {
     "data": {
      "text/html": [
       "<div>\n",
       "<style scoped>\n",
       "    .dataframe tbody tr th:only-of-type {\n",
       "        vertical-align: middle;\n",
       "    }\n",
       "\n",
       "    .dataframe tbody tr th {\n",
       "        vertical-align: top;\n",
       "    }\n",
       "\n",
       "    .dataframe thead th {\n",
       "        text-align: right;\n",
       "    }\n",
       "</style>\n",
       "<table border=\"1\" class=\"dataframe\">\n",
       "  <thead>\n",
       "    <tr style=\"text-align: right;\">\n",
       "      <th></th>\n",
       "      <th>펀드명</th>\n",
       "      <th>운용규모</th>\n",
       "      <th>샤프지수</th>\n",
       "      <th>KOSPI 샤프지수</th>\n",
       "      <th>소르티노지수</th>\n",
       "      <th>KOSPI 소르티노지수</th>\n",
       "      <th>위험등급</th>\n",
       "    </tr>\n",
       "  </thead>\n",
       "  <tbody>\n",
       "    <tr>\n",
       "      <th>0</th>\n",
       "      <td>미래에셋3억만들기솔로몬증권투자신탁1호(주식)</td>\n",
       "      <td>548219</td>\n",
       "      <td>1.612074</td>\n",
       "      <td>2.166167</td>\n",
       "      <td>2.156536</td>\n",
       "      <td>3.260605</td>\n",
       "      <td>높은위험</td>\n",
       "    </tr>\n",
       "    <tr>\n",
       "      <th>1</th>\n",
       "      <td>미래에셋3억만들기인디펜던스증권투자신탁K-1호(주식)</td>\n",
       "      <td>26270</td>\n",
       "      <td>2.488233</td>\n",
       "      <td>2.166167</td>\n",
       "      <td>3.514217</td>\n",
       "      <td>3.260605</td>\n",
       "      <td>매우높은위험</td>\n",
       "    </tr>\n",
       "    <tr>\n",
       "      <th>2</th>\n",
       "      <td>미래에셋5대그룹대표주증권자투자신탁1호(주식)</td>\n",
       "      <td>4546</td>\n",
       "      <td>1.606388</td>\n",
       "      <td>2.166167</td>\n",
       "      <td>2.477546</td>\n",
       "      <td>3.260605</td>\n",
       "      <td>매우높은위험</td>\n",
       "    </tr>\n",
       "    <tr>\n",
       "      <th>3</th>\n",
       "      <td>미래에셋5대그룹대표주증권자투자신탁2호(주식)</td>\n",
       "      <td>1752</td>\n",
       "      <td>1.292779</td>\n",
       "      <td>2.166167</td>\n",
       "      <td>1.875552</td>\n",
       "      <td>3.260605</td>\n",
       "      <td>매우높은위험</td>\n",
       "    </tr>\n",
       "    <tr>\n",
       "      <th>4</th>\n",
       "      <td>미래에셋KRX300인덱스증권투자신탁(주식-파생형)</td>\n",
       "      <td>6067</td>\n",
       "      <td>2.067520</td>\n",
       "      <td>2.166167</td>\n",
       "      <td>3.021028</td>\n",
       "      <td>3.260605</td>\n",
       "      <td>매우높은위험</td>\n",
       "    </tr>\n",
       "    <tr>\n",
       "      <th>...</th>\n",
       "      <td>...</td>\n",
       "      <td>...</td>\n",
       "      <td>...</td>\n",
       "      <td>...</td>\n",
       "      <td>...</td>\n",
       "      <td>...</td>\n",
       "      <td>...</td>\n",
       "    </tr>\n",
       "    <tr>\n",
       "      <th>58</th>\n",
       "      <td>미래에셋퇴직연금소비성장증권자투자신탁1호(주식)</td>\n",
       "      <td>656</td>\n",
       "      <td>-1.612344</td>\n",
       "      <td>2.166167</td>\n",
       "      <td>-2.190228</td>\n",
       "      <td>3.260605</td>\n",
       "      <td>보통위험</td>\n",
       "    </tr>\n",
       "    <tr>\n",
       "      <th>59</th>\n",
       "      <td>미래에셋퇴직연금솔로몬증권자투자신탁2호(주식)</td>\n",
       "      <td>31477</td>\n",
       "      <td>0.715379</td>\n",
       "      <td>2.166167</td>\n",
       "      <td>1.083912</td>\n",
       "      <td>3.260605</td>\n",
       "      <td>보통위험</td>\n",
       "    </tr>\n",
       "    <tr>\n",
       "      <th>60</th>\n",
       "      <td>미래에셋퇴직플랜KRX100인덱스증권자투자신탁1호(주식)</td>\n",
       "      <td>1957</td>\n",
       "      <td>-0.969591</td>\n",
       "      <td>2.166167</td>\n",
       "      <td>-1.337205</td>\n",
       "      <td>3.260605</td>\n",
       "      <td>보통위험</td>\n",
       "    </tr>\n",
       "    <tr>\n",
       "      <th>61</th>\n",
       "      <td>미래에셋퇴직플랜증권자투자신탁1호(주식)</td>\n",
       "      <td>42799</td>\n",
       "      <td>0.647161</td>\n",
       "      <td>2.166167</td>\n",
       "      <td>0.967891</td>\n",
       "      <td>3.260605</td>\n",
       "      <td>매우높은위험</td>\n",
       "    </tr>\n",
       "    <tr>\n",
       "      <th>62</th>\n",
       "      <td>미래에셋한국헬스케어증권자투자신탁1호(주식)</td>\n",
       "      <td>53393</td>\n",
       "      <td>4.286455</td>\n",
       "      <td>2.166167</td>\n",
       "      <td>7.963974</td>\n",
       "      <td>3.260605</td>\n",
       "      <td>매우높은위험</td>\n",
       "    </tr>\n",
       "  </tbody>\n",
       "</table>\n",
       "<p>63 rows × 7 columns</p>\n",
       "</div>"
      ],
      "text/plain": [
       "                               펀드명    운용규모      샤프지수  KOSPI 샤프지수    소르티노지수  \\\n",
       "0         미래에셋3억만들기솔로몬증권투자신탁1호(주식)  548219  1.612074    2.166167  2.156536   \n",
       "1     미래에셋3억만들기인디펜던스증권투자신탁K-1호(주식)   26270  2.488233    2.166167  3.514217   \n",
       "2         미래에셋5대그룹대표주증권자투자신탁1호(주식)    4546  1.606388    2.166167  2.477546   \n",
       "3         미래에셋5대그룹대표주증권자투자신탁2호(주식)    1752  1.292779    2.166167  1.875552   \n",
       "4      미래에셋KRX300인덱스증권투자신탁(주식-파생형)    6067  2.067520    2.166167  3.021028   \n",
       "..                             ...     ...       ...         ...       ...   \n",
       "58       미래에셋퇴직연금소비성장증권자투자신탁1호(주식)     656 -1.612344    2.166167 -2.190228   \n",
       "59        미래에셋퇴직연금솔로몬증권자투자신탁2호(주식)   31477  0.715379    2.166167  1.083912   \n",
       "60  미래에셋퇴직플랜KRX100인덱스증권자투자신탁1호(주식)    1957 -0.969591    2.166167 -1.337205   \n",
       "61           미래에셋퇴직플랜증권자투자신탁1호(주식)   42799  0.647161    2.166167  0.967891   \n",
       "62         미래에셋한국헬스케어증권자투자신탁1호(주식)   53393  4.286455    2.166167  7.963974   \n",
       "\n",
       "    KOSPI 소르티노지수    위험등급  \n",
       "0       3.260605    높은위험  \n",
       "1       3.260605  매우높은위험  \n",
       "2       3.260605  매우높은위험  \n",
       "3       3.260605  매우높은위험  \n",
       "4       3.260605  매우높은위험  \n",
       "..           ...     ...  \n",
       "58      3.260605    보통위험  \n",
       "59      3.260605    보통위험  \n",
       "60      3.260605    보통위험  \n",
       "61      3.260605  매우높은위험  \n",
       "62      3.260605  매우높은위험  \n",
       "\n",
       "[63 rows x 7 columns]"
      ]
     },
     "execution_count": 1087,
     "metadata": {},
     "output_type": "execute_result"
    }
   ],
   "source": [
    "# 파일 불러오기\n",
    "\n",
    "import pandas as pd\n",
    "\n",
    "stock_fund = pd.read_csv('./csv/주식형펀드_샤프지수_소르티노지수.csv', encoding='CP949')\n",
    "stock_fund.drop(\"Unnamed: 0\", axis=1, inplace=True)\n",
    "stock_fund"
   ]
  },
  {
   "cell_type": "code",
   "execution_count": 1088,
   "metadata": {},
   "outputs": [],
   "source": [
    "stock_fund.reset_index(drop=True, inplace=True)"
   ]
  },
  {
   "cell_type": "code",
   "execution_count": 1089,
   "metadata": {},
   "outputs": [
    {
     "data": {
      "text/html": [
       "<div>\n",
       "<style scoped>\n",
       "    .dataframe tbody tr th:only-of-type {\n",
       "        vertical-align: middle;\n",
       "    }\n",
       "\n",
       "    .dataframe tbody tr th {\n",
       "        vertical-align: top;\n",
       "    }\n",
       "\n",
       "    .dataframe thead th {\n",
       "        text-align: right;\n",
       "    }\n",
       "</style>\n",
       "<table border=\"1\" class=\"dataframe\">\n",
       "  <thead>\n",
       "    <tr style=\"text-align: right;\">\n",
       "      <th></th>\n",
       "      <th>펀드명</th>\n",
       "      <th>운용규모</th>\n",
       "      <th>샤프지수</th>\n",
       "      <th>KOSPI 샤프지수</th>\n",
       "      <th>소르티노지수</th>\n",
       "      <th>KOSPI 소르티노지수</th>\n",
       "      <th>위험등급</th>\n",
       "    </tr>\n",
       "  </thead>\n",
       "  <tbody>\n",
       "    <tr>\n",
       "      <th>0</th>\n",
       "      <td>미래에셋3억만들기솔로몬증권투자신탁1호(주식)</td>\n",
       "      <td>548219</td>\n",
       "      <td>1.612074</td>\n",
       "      <td>2.166167</td>\n",
       "      <td>2.156536</td>\n",
       "      <td>3.260605</td>\n",
       "      <td>높은위험</td>\n",
       "    </tr>\n",
       "    <tr>\n",
       "      <th>1</th>\n",
       "      <td>미래에셋3억만들기인디펜던스증권투자신탁K-1호(주식)</td>\n",
       "      <td>26270</td>\n",
       "      <td>2.488233</td>\n",
       "      <td>2.166167</td>\n",
       "      <td>3.514217</td>\n",
       "      <td>3.260605</td>\n",
       "      <td>매우높은위험</td>\n",
       "    </tr>\n",
       "    <tr>\n",
       "      <th>2</th>\n",
       "      <td>미래에셋5대그룹대표주증권자투자신탁1호(주식)</td>\n",
       "      <td>4546</td>\n",
       "      <td>1.606388</td>\n",
       "      <td>2.166167</td>\n",
       "      <td>2.477546</td>\n",
       "      <td>3.260605</td>\n",
       "      <td>매우높은위험</td>\n",
       "    </tr>\n",
       "    <tr>\n",
       "      <th>3</th>\n",
       "      <td>미래에셋5대그룹대표주증권자투자신탁2호(주식)</td>\n",
       "      <td>1752</td>\n",
       "      <td>1.292779</td>\n",
       "      <td>2.166167</td>\n",
       "      <td>1.875552</td>\n",
       "      <td>3.260605</td>\n",
       "      <td>매우높은위험</td>\n",
       "    </tr>\n",
       "    <tr>\n",
       "      <th>4</th>\n",
       "      <td>미래에셋KRX300인덱스증권투자신탁(주식-파생형)</td>\n",
       "      <td>6067</td>\n",
       "      <td>2.067520</td>\n",
       "      <td>2.166167</td>\n",
       "      <td>3.021028</td>\n",
       "      <td>3.260605</td>\n",
       "      <td>매우높은위험</td>\n",
       "    </tr>\n",
       "    <tr>\n",
       "      <th>...</th>\n",
       "      <td>...</td>\n",
       "      <td>...</td>\n",
       "      <td>...</td>\n",
       "      <td>...</td>\n",
       "      <td>...</td>\n",
       "      <td>...</td>\n",
       "      <td>...</td>\n",
       "    </tr>\n",
       "    <tr>\n",
       "      <th>58</th>\n",
       "      <td>미래에셋퇴직연금소비성장증권자투자신탁1호(주식)</td>\n",
       "      <td>656</td>\n",
       "      <td>-1.612344</td>\n",
       "      <td>2.166167</td>\n",
       "      <td>-2.190228</td>\n",
       "      <td>3.260605</td>\n",
       "      <td>보통위험</td>\n",
       "    </tr>\n",
       "    <tr>\n",
       "      <th>59</th>\n",
       "      <td>미래에셋퇴직연금솔로몬증권자투자신탁2호(주식)</td>\n",
       "      <td>31477</td>\n",
       "      <td>0.715379</td>\n",
       "      <td>2.166167</td>\n",
       "      <td>1.083912</td>\n",
       "      <td>3.260605</td>\n",
       "      <td>보통위험</td>\n",
       "    </tr>\n",
       "    <tr>\n",
       "      <th>60</th>\n",
       "      <td>미래에셋퇴직플랜KRX100인덱스증권자투자신탁1호(주식)</td>\n",
       "      <td>1957</td>\n",
       "      <td>-0.969591</td>\n",
       "      <td>2.166167</td>\n",
       "      <td>-1.337205</td>\n",
       "      <td>3.260605</td>\n",
       "      <td>보통위험</td>\n",
       "    </tr>\n",
       "    <tr>\n",
       "      <th>61</th>\n",
       "      <td>미래에셋퇴직플랜증권자투자신탁1호(주식)</td>\n",
       "      <td>42799</td>\n",
       "      <td>0.647161</td>\n",
       "      <td>2.166167</td>\n",
       "      <td>0.967891</td>\n",
       "      <td>3.260605</td>\n",
       "      <td>매우높은위험</td>\n",
       "    </tr>\n",
       "    <tr>\n",
       "      <th>62</th>\n",
       "      <td>미래에셋한국헬스케어증권자투자신탁1호(주식)</td>\n",
       "      <td>53393</td>\n",
       "      <td>4.286455</td>\n",
       "      <td>2.166167</td>\n",
       "      <td>7.963974</td>\n",
       "      <td>3.260605</td>\n",
       "      <td>매우높은위험</td>\n",
       "    </tr>\n",
       "  </tbody>\n",
       "</table>\n",
       "<p>63 rows × 7 columns</p>\n",
       "</div>"
      ],
      "text/plain": [
       "                               펀드명    운용규모      샤프지수  KOSPI 샤프지수    소르티노지수  \\\n",
       "0         미래에셋3억만들기솔로몬증권투자신탁1호(주식)  548219  1.612074    2.166167  2.156536   \n",
       "1     미래에셋3억만들기인디펜던스증권투자신탁K-1호(주식)   26270  2.488233    2.166167  3.514217   \n",
       "2         미래에셋5대그룹대표주증권자투자신탁1호(주식)    4546  1.606388    2.166167  2.477546   \n",
       "3         미래에셋5대그룹대표주증권자투자신탁2호(주식)    1752  1.292779    2.166167  1.875552   \n",
       "4      미래에셋KRX300인덱스증권투자신탁(주식-파생형)    6067  2.067520    2.166167  3.021028   \n",
       "..                             ...     ...       ...         ...       ...   \n",
       "58       미래에셋퇴직연금소비성장증권자투자신탁1호(주식)     656 -1.612344    2.166167 -2.190228   \n",
       "59        미래에셋퇴직연금솔로몬증권자투자신탁2호(주식)   31477  0.715379    2.166167  1.083912   \n",
       "60  미래에셋퇴직플랜KRX100인덱스증권자투자신탁1호(주식)    1957 -0.969591    2.166167 -1.337205   \n",
       "61           미래에셋퇴직플랜증권자투자신탁1호(주식)   42799  0.647161    2.166167  0.967891   \n",
       "62         미래에셋한국헬스케어증권자투자신탁1호(주식)   53393  4.286455    2.166167  7.963974   \n",
       "\n",
       "    KOSPI 소르티노지수    위험등급  \n",
       "0       3.260605    높은위험  \n",
       "1       3.260605  매우높은위험  \n",
       "2       3.260605  매우높은위험  \n",
       "3       3.260605  매우높은위험  \n",
       "4       3.260605  매우높은위험  \n",
       "..           ...     ...  \n",
       "58      3.260605    보통위험  \n",
       "59      3.260605    보통위험  \n",
       "60      3.260605    보통위험  \n",
       "61      3.260605  매우높은위험  \n",
       "62      3.260605  매우높은위험  \n",
       "\n",
       "[63 rows x 7 columns]"
      ]
     },
     "execution_count": 1089,
     "metadata": {},
     "output_type": "execute_result"
    }
   ],
   "source": [
    "stock_fund"
   ]
  },
  {
   "cell_type": "code",
   "execution_count": 1090,
   "metadata": {},
   "outputs": [],
   "source": [
    "def danger_encoding(danger):\n",
    "    number = \"\"\n",
    "    if danger == \"보통위험\": number = 1\n",
    "    elif danger == \"다소높은위험\": number = 2\n",
    "    elif danger == \"높은위험\": number = 3\n",
    "    else: number = 4\n",
    "    return number"
   ]
  },
  {
   "cell_type": "code",
   "execution_count": 1091,
   "metadata": {},
   "outputs": [],
   "source": [
    "stock_fund[\"위험등급\"] = stock_fund[\"위험등급\"].apply(lambda x: danger_encoding(x))"
   ]
  },
  {
   "cell_type": "code",
   "execution_count": 1092,
   "metadata": {},
   "outputs": [
    {
     "data": {
      "text/html": [
       "<div>\n",
       "<style scoped>\n",
       "    .dataframe tbody tr th:only-of-type {\n",
       "        vertical-align: middle;\n",
       "    }\n",
       "\n",
       "    .dataframe tbody tr th {\n",
       "        vertical-align: top;\n",
       "    }\n",
       "\n",
       "    .dataframe thead th {\n",
       "        text-align: right;\n",
       "    }\n",
       "</style>\n",
       "<table border=\"1\" class=\"dataframe\">\n",
       "  <thead>\n",
       "    <tr style=\"text-align: right;\">\n",
       "      <th></th>\n",
       "      <th>펀드명</th>\n",
       "      <th>운용규모</th>\n",
       "      <th>샤프지수</th>\n",
       "      <th>KOSPI 샤프지수</th>\n",
       "      <th>소르티노지수</th>\n",
       "      <th>KOSPI 소르티노지수</th>\n",
       "      <th>위험등급</th>\n",
       "    </tr>\n",
       "  </thead>\n",
       "  <tbody>\n",
       "    <tr>\n",
       "      <th>0</th>\n",
       "      <td>미래에셋3억만들기솔로몬증권투자신탁1호(주식)</td>\n",
       "      <td>548219</td>\n",
       "      <td>1.612074</td>\n",
       "      <td>2.166167</td>\n",
       "      <td>2.156536</td>\n",
       "      <td>3.260605</td>\n",
       "      <td>3</td>\n",
       "    </tr>\n",
       "    <tr>\n",
       "      <th>1</th>\n",
       "      <td>미래에셋3억만들기인디펜던스증권투자신탁K-1호(주식)</td>\n",
       "      <td>26270</td>\n",
       "      <td>2.488233</td>\n",
       "      <td>2.166167</td>\n",
       "      <td>3.514217</td>\n",
       "      <td>3.260605</td>\n",
       "      <td>4</td>\n",
       "    </tr>\n",
       "    <tr>\n",
       "      <th>2</th>\n",
       "      <td>미래에셋5대그룹대표주증권자투자신탁1호(주식)</td>\n",
       "      <td>4546</td>\n",
       "      <td>1.606388</td>\n",
       "      <td>2.166167</td>\n",
       "      <td>2.477546</td>\n",
       "      <td>3.260605</td>\n",
       "      <td>4</td>\n",
       "    </tr>\n",
       "    <tr>\n",
       "      <th>3</th>\n",
       "      <td>미래에셋5대그룹대표주증권자투자신탁2호(주식)</td>\n",
       "      <td>1752</td>\n",
       "      <td>1.292779</td>\n",
       "      <td>2.166167</td>\n",
       "      <td>1.875552</td>\n",
       "      <td>3.260605</td>\n",
       "      <td>4</td>\n",
       "    </tr>\n",
       "    <tr>\n",
       "      <th>4</th>\n",
       "      <td>미래에셋KRX300인덱스증권투자신탁(주식-파생형)</td>\n",
       "      <td>6067</td>\n",
       "      <td>2.067520</td>\n",
       "      <td>2.166167</td>\n",
       "      <td>3.021028</td>\n",
       "      <td>3.260605</td>\n",
       "      <td>4</td>\n",
       "    </tr>\n",
       "    <tr>\n",
       "      <th>...</th>\n",
       "      <td>...</td>\n",
       "      <td>...</td>\n",
       "      <td>...</td>\n",
       "      <td>...</td>\n",
       "      <td>...</td>\n",
       "      <td>...</td>\n",
       "      <td>...</td>\n",
       "    </tr>\n",
       "    <tr>\n",
       "      <th>58</th>\n",
       "      <td>미래에셋퇴직연금소비성장증권자투자신탁1호(주식)</td>\n",
       "      <td>656</td>\n",
       "      <td>-1.612344</td>\n",
       "      <td>2.166167</td>\n",
       "      <td>-2.190228</td>\n",
       "      <td>3.260605</td>\n",
       "      <td>1</td>\n",
       "    </tr>\n",
       "    <tr>\n",
       "      <th>59</th>\n",
       "      <td>미래에셋퇴직연금솔로몬증권자투자신탁2호(주식)</td>\n",
       "      <td>31477</td>\n",
       "      <td>0.715379</td>\n",
       "      <td>2.166167</td>\n",
       "      <td>1.083912</td>\n",
       "      <td>3.260605</td>\n",
       "      <td>1</td>\n",
       "    </tr>\n",
       "    <tr>\n",
       "      <th>60</th>\n",
       "      <td>미래에셋퇴직플랜KRX100인덱스증권자투자신탁1호(주식)</td>\n",
       "      <td>1957</td>\n",
       "      <td>-0.969591</td>\n",
       "      <td>2.166167</td>\n",
       "      <td>-1.337205</td>\n",
       "      <td>3.260605</td>\n",
       "      <td>1</td>\n",
       "    </tr>\n",
       "    <tr>\n",
       "      <th>61</th>\n",
       "      <td>미래에셋퇴직플랜증권자투자신탁1호(주식)</td>\n",
       "      <td>42799</td>\n",
       "      <td>0.647161</td>\n",
       "      <td>2.166167</td>\n",
       "      <td>0.967891</td>\n",
       "      <td>3.260605</td>\n",
       "      <td>4</td>\n",
       "    </tr>\n",
       "    <tr>\n",
       "      <th>62</th>\n",
       "      <td>미래에셋한국헬스케어증권자투자신탁1호(주식)</td>\n",
       "      <td>53393</td>\n",
       "      <td>4.286455</td>\n",
       "      <td>2.166167</td>\n",
       "      <td>7.963974</td>\n",
       "      <td>3.260605</td>\n",
       "      <td>4</td>\n",
       "    </tr>\n",
       "  </tbody>\n",
       "</table>\n",
       "<p>63 rows × 7 columns</p>\n",
       "</div>"
      ],
      "text/plain": [
       "                               펀드명    운용규모      샤프지수  KOSPI 샤프지수    소르티노지수  \\\n",
       "0         미래에셋3억만들기솔로몬증권투자신탁1호(주식)  548219  1.612074    2.166167  2.156536   \n",
       "1     미래에셋3억만들기인디펜던스증권투자신탁K-1호(주식)   26270  2.488233    2.166167  3.514217   \n",
       "2         미래에셋5대그룹대표주증권자투자신탁1호(주식)    4546  1.606388    2.166167  2.477546   \n",
       "3         미래에셋5대그룹대표주증권자투자신탁2호(주식)    1752  1.292779    2.166167  1.875552   \n",
       "4      미래에셋KRX300인덱스증권투자신탁(주식-파생형)    6067  2.067520    2.166167  3.021028   \n",
       "..                             ...     ...       ...         ...       ...   \n",
       "58       미래에셋퇴직연금소비성장증권자투자신탁1호(주식)     656 -1.612344    2.166167 -2.190228   \n",
       "59        미래에셋퇴직연금솔로몬증권자투자신탁2호(주식)   31477  0.715379    2.166167  1.083912   \n",
       "60  미래에셋퇴직플랜KRX100인덱스증권자투자신탁1호(주식)    1957 -0.969591    2.166167 -1.337205   \n",
       "61           미래에셋퇴직플랜증권자투자신탁1호(주식)   42799  0.647161    2.166167  0.967891   \n",
       "62         미래에셋한국헬스케어증권자투자신탁1호(주식)   53393  4.286455    2.166167  7.963974   \n",
       "\n",
       "    KOSPI 소르티노지수  위험등급  \n",
       "0       3.260605     3  \n",
       "1       3.260605     4  \n",
       "2       3.260605     4  \n",
       "3       3.260605     4  \n",
       "4       3.260605     4  \n",
       "..           ...   ...  \n",
       "58      3.260605     1  \n",
       "59      3.260605     1  \n",
       "60      3.260605     1  \n",
       "61      3.260605     4  \n",
       "62      3.260605     4  \n",
       "\n",
       "[63 rows x 7 columns]"
      ]
     },
     "execution_count": 1092,
     "metadata": {},
     "output_type": "execute_result"
    }
   ],
   "source": [
    "stock_fund"
   ]
  },
  {
   "cell_type": "code",
   "execution_count": 1093,
   "metadata": {},
   "outputs": [
    {
     "name": "stdout",
     "output_type": "stream",
     "text": [
      "<class 'pandas.core.frame.DataFrame'>\n",
      "RangeIndex: 63 entries, 0 to 62\n",
      "Data columns (total 7 columns):\n",
      " #   Column        Non-Null Count  Dtype  \n",
      "---  ------        --------------  -----  \n",
      " 0   펀드명           63 non-null     object \n",
      " 1   운용규모          63 non-null     int64  \n",
      " 2   샤프지수          63 non-null     float64\n",
      " 3   KOSPI 샤프지수    63 non-null     float64\n",
      " 4   소르티노지수        63 non-null     float64\n",
      " 5   KOSPI 소르티노지수  63 non-null     float64\n",
      " 6   위험등급          63 non-null     int64  \n",
      "dtypes: float64(4), int64(2), object(1)\n",
      "memory usage: 3.3+ KB\n"
     ]
    }
   ],
   "source": [
    "stock_fund.info()"
   ]
  },
  {
   "cell_type": "code",
   "execution_count": 1094,
   "metadata": {},
   "outputs": [],
   "source": [
    "stock_fund[\"펀드우수\"] = \"\""
   ]
  },
  {
   "cell_type": "code",
   "execution_count": 1095,
   "metadata": {},
   "outputs": [
    {
     "data": {
      "text/plain": [
       "count        63.000000\n",
       "mean      36964.968254\n",
       "std       78553.556309\n",
       "min         171.000000\n",
       "25%        4989.000000\n",
       "50%       13818.000000\n",
       "75%       35376.000000\n",
       "max      548219.000000\n",
       "Name: 운용규모, dtype: float64"
      ]
     },
     "execution_count": 1095,
     "metadata": {},
     "output_type": "execute_result"
    }
   ],
   "source": [
    "stock_fund[\"운용규모\"].describe()"
   ]
  },
  {
   "cell_type": "markdown",
   "metadata": {},
   "source": [
    "위험등급\n",
    "1   보통\n",
    "2   다소\n",
    "3   높은\n",
    "4   매우높은\n",
    "\n",
    "펀드우수\n",
    "1   terrible\n",
    "2   bad\n",
    "3   good\n",
    "4   best\n"
   ]
  },
  {
   "cell_type": "code",
   "execution_count": 1097,
   "metadata": {},
   "outputs": [
    {
     "name": "stderr",
     "output_type": "stream",
     "text": [
      "d:\\anaconda3\\envs\\py36_32\\lib\\site-packages\\pandas\\core\\indexing.py:670: SettingWithCopyWarning: \n",
      "A value is trying to be set on a copy of a slice from a DataFrame\n",
      "\n",
      "See the caveats in the documentation: https://pandas.pydata.org/pandas-docs/stable/user_guide/indexing.html#returning-a-view-versus-a-copy\n",
      "  iloc._setitem_with_indexer(indexer, value)\n"
     ]
    }
   ],
   "source": [
    "stock_fund[\"펀드우수\"] = 0\n",
    "for i in stock_fund.index:\n",
    "    if stock_fund[\"위험등급\"].loc[i] == 1 or stock_fund[\"위험등급\"].loc[i] == 2:\n",
    "        if stock_fund[\"운용규모\"].loc[i] >= 13818:\n",
    "            if stock_fund[\"소르티노지수\"].loc[i] / stock_fund[\"KOSPI 소르티노지수\"].loc[i] >= 1:\n",
    "                stock_fund[\"펀드우수\"].loc[i] = 4\n",
    "            elif stock_fund[\"소르티노지수\"].loc[i] / stock_fund[\"KOSPI 소르티노지수\"].loc[i] >= 0:\n",
    "                stock_fund[\"펀드우수\"].loc[i] = 3\n",
    "            else:\n",
    "                stock_fund[\"펀드우수\"].loc[i] = 1\n",
    "                \n",
    "        elif stock_fund[\"운용규모\"].loc[i] < 13818:\n",
    "            if stock_fund[\"소르티노지수\"].loc[i] / stock_fund[\"KOSPI 소르티노지수\"].loc[i] >= 1:\n",
    "                stock_fund[\"펀드우수\"].loc[i] = 3\n",
    "            elif stock_fund[\"소르티노지수\"].loc[i] / stock_fund[\"KOSPI 소르티노지수\"].loc[i] >= 0:\n",
    "                stock_fund[\"펀드우수\"].loc[i] = 2\n",
    "            else:\n",
    "                stock_fund[\"펀드우수\"].loc[i] = 1\n",
    "                \n",
    "    elif stock_fund[\"위험등급\"].loc[i] == 3 or stock_fund[\"위험등급\"].loc[i] == 4:\n",
    "        if stock_fund[\"운용규모\"].loc[i] >= 13818:\n",
    "            if stock_fund[\"소르티노지수\"].loc[i] / stock_fund[\"KOSPI 소르티노지수\"].loc[i] >= 1:\n",
    "                stock_fund[\"펀드우수\"].loc[i] = 4\n",
    "            elif stock_fund[\"소르티노지수\"].loc[i] / stock_fund[\"KOSPI 소르티노지수\"].loc[i] >= 0:\n",
    "                stock_fund[\"펀드우수\"].loc[i] = 2\n",
    "            else:\n",
    "                stock_fund[\"펀드우수\"].loc[i] = 1\n",
    "                \n",
    "        elif stock_fund[\"운용규모\"].loc[i] < 13818:\n",
    "            if stock_fund[\"소르티노지수\"].loc[i] / stock_fund[\"KOSPI 소르티노지수\"].loc[i] >= 1:\n",
    "                stock_fund[\"펀드우수\"].loc[i] = 3\n",
    "            elif stock_fund[\"소르티노지수\"].loc[i] / stock_fund[\"KOSPI 소르티노지수\"].loc[i] >= 0:\n",
    "                stock_fund[\"펀드우수\"].loc[i] = 2\n",
    "            else:\n",
    "                stock_fund[\"펀드우수\"].loc[i] = 1"
   ]
  },
  {
   "cell_type": "code",
   "execution_count": 1098,
   "metadata": {},
   "outputs": [
    {
     "name": "stdout",
     "output_type": "stream",
     "text": [
      "<class 'pandas.core.frame.DataFrame'>\n",
      "RangeIndex: 63 entries, 0 to 62\n",
      "Data columns (total 8 columns):\n",
      " #   Column        Non-Null Count  Dtype  \n",
      "---  ------        --------------  -----  \n",
      " 0   펀드명           63 non-null     object \n",
      " 1   운용규모          63 non-null     int64  \n",
      " 2   샤프지수          63 non-null     float64\n",
      " 3   KOSPI 샤프지수    63 non-null     float64\n",
      " 4   소르티노지수        63 non-null     float64\n",
      " 5   KOSPI 소르티노지수  63 non-null     float64\n",
      " 6   위험등급          63 non-null     int64  \n",
      " 7   펀드우수          63 non-null     int64  \n",
      "dtypes: float64(4), int64(3), object(1)\n",
      "memory usage: 3.8+ KB\n"
     ]
    }
   ],
   "source": [
    "stock_fund.info()"
   ]
  },
  {
   "cell_type": "code",
   "execution_count": 1099,
   "metadata": {},
   "outputs": [],
   "source": [
    "stock_fund[\"위험등급\"] = stock_fund[\"위험등급\"].astype(int)\n",
    "stock_fund[\"펀드우수\"] = stock_fund[\"펀드우수\"].astype(int)"
   ]
  },
  {
   "cell_type": "code",
   "execution_count": 1100,
   "metadata": {},
   "outputs": [],
   "source": [
    "# 피처와 타겟\n",
    "data = stock_fund[[\"운용규모\", \"소르티노지수\", \"위험등급\"]]\n",
    "target = stock_fund[[\"펀드우수\"]]"
   ]
  },
  {
   "cell_type": "code",
   "execution_count": 1101,
   "metadata": {},
   "outputs": [],
   "source": [
    "# 데이터 분리\n",
    "from sklearn.model_selection import train_test_split\n",
    "\n",
    "train_input, test_input, train_target, test_target = train_test_split(data, target, test_size=0.2, random_state=11)"
   ]
  },
  {
   "cell_type": "code",
   "execution_count": 1102,
   "metadata": {},
   "outputs": [
    {
     "name": "stdout",
     "output_type": "stream",
     "text": [
      "1.0\n",
      "1.0\n"
     ]
    }
   ],
   "source": [
    "from sklearn.tree import DecisionTreeClassifier\n",
    "\n",
    "dt = DecisionTreeClassifier(random_state=11)\n",
    "dt.fit(train_input, train_target)\n",
    "\n",
    "print(dt.score(train_input, train_target))\n",
    "print(dt.score(test_input, test_target))"
   ]
  },
  {
   "cell_type": "code",
   "execution_count": 1103,
   "metadata": {},
   "outputs": [
    {
     "name": "stdout",
     "output_type": "stream",
     "text": [
      "(50, 3) (13, 3)\n"
     ]
    }
   ],
   "source": [
    "# 데이터 크기 확인\n",
    "print(train_input.shape, test_input.shape)"
   ]
  },
  {
   "cell_type": "code",
   "execution_count": 1104,
   "metadata": {},
   "outputs": [],
   "source": [
    "# 스케일링 -> 평균 0, 분산 1로 데이터 분포도 변환\n",
    "from sklearn.preprocessing import StandardScaler\n",
    "\n",
    "ss = StandardScaler()\n",
    "data_scaled = ss.fit_transform(data)\n",
    "\n",
    "train_input, test_input, train_target, test_target = train_test_split(data, target, test_size=0.2, random_state=11)"
   ]
  },
  {
   "cell_type": "code",
   "execution_count": 1105,
   "metadata": {},
   "outputs": [
    {
     "name": "stdout",
     "output_type": "stream",
     "text": [
      "0.38461538461538464\n"
     ]
    },
    {
     "name": "stderr",
     "output_type": "stream",
     "text": [
      "d:\\anaconda3\\envs\\py36_32\\lib\\site-packages\\sklearn\\utils\\validation.py:63: DataConversionWarning: A column-vector y was passed when a 1d array was expected. Please change the shape of y to (n_samples, ), for example using ravel().\n",
      "  return f(*args, **kwargs)\n"
     ]
    }
   ],
   "source": [
    "# 로지스틱 회귀\n",
    "from sklearn.linear_model import LogisticRegression\n",
    "from sklearn.metrics import accuracy_score\n",
    "\n",
    "lr = LogisticRegression()\n",
    "lr.fit(train_input, train_target)\n",
    "lr_preds = lr.predict(test_input)\n",
    "\n",
    "print(accuracy_score(test_target, lr_preds))\n",
    "# print(lr.score(test_input, test_target))"
   ]
  },
  {
   "cell_type": "code",
   "execution_count": 1106,
   "metadata": {},
   "outputs": [
    {
     "name": "stdout",
     "output_type": "stream",
     "text": [
      "[[ 6.87400889e-06 -2.69300789e-08 -3.70786406e-09]\n",
      " [ 1.04864583e-05 -1.05956900e-08  1.47870954e-09]\n",
      " [-2.44113576e-05  2.12456949e-08  3.19073523e-09]\n",
      " [ 7.05089042e-06  1.62800739e-08 -9.61580709e-10]] [-1.21303356e-09  2.80882563e-10  1.36375069e-09 -4.31599692e-10]\n"
     ]
    }
   ],
   "source": [
    "print(lr.coef_, lr.intercept_)"
   ]
  },
  {
   "cell_type": "code",
   "execution_count": 1059,
   "metadata": {},
   "outputs": [
    {
     "name": "stdout",
     "output_type": "stream",
     "text": [
      "1.0\n",
      "1.0\n"
     ]
    }
   ],
   "source": [
    "# 학습 및 정확도 확인\n",
    "# 검증 데이터를 나누지 않았을 때, 오버피팅이 나온다.\n",
    "from sklearn.tree import DecisionTreeClassifier\n",
    "\n",
    "dt = DecisionTreeClassifier(random_state=11)\n",
    "dt.fit(train_scaled, train_target)\n",
    "\n",
    "print(dt.score(train_scaled, train_target))\n",
    "print(dt.score(test_scaled, test_target))"
   ]
  },
  {
   "cell_type": "code",
   "execution_count": 1107,
   "metadata": {},
   "outputs": [
    {
     "data": {
      "text/plain": [
       "array([0.30922039, 0.64026776, 0.05051185])"
      ]
     },
     "execution_count": 1107,
     "metadata": {},
     "output_type": "execute_result"
    }
   ],
   "source": [
    "# 피처 중요도 확인\n",
    "# 운용규모, 소르티노지수, 위험등급\n",
    "dt.feature_importances_"
   ]
  },
  {
   "cell_type": "code",
   "execution_count": 1108,
   "metadata": {},
   "outputs": [
    {
     "data": {
      "text/plain": [
       "<AxesSubplot:title={'center':'피처중요도'}>"
      ]
     },
     "execution_count": 1108,
     "metadata": {},
     "output_type": "execute_result"
    },
    {
     "data": {
      "image/png": "[encoded data removed]",
      "text/plain": [
       "<Figure size 432x288 with 1 Axes>"
      ]
     },
     "metadata": {},
     "output_type": "display_data"
    }
   ],
   "source": [
    "# 피처 중요도 시각화\n",
    "import seaborn as sns\n",
    "\n",
    "plt.title(\"피처중요도\")\n",
    "sns.barplot(x=dt.feature_importances_, y=data.columns)"
   ]
  },
  {
   "cell_type": "code",
   "execution_count": 1065,
   "metadata": {},
   "outputs": [
    {
     "name": "stdout",
     "output_type": "stream",
     "text": [
      "교차 검증 0 정확도: 0.8235\n",
      "교차 검증 1 정확도: 0.8824\n",
      "교차 검증 2 정확도: 0.9375\n",
      "평균 검증 정확도 0.8811\n"
     ]
    }
   ],
   "source": [
    "# 교차 검증 \n",
    "import numpy as np\n",
    "from sklearn.model_selection import cross_val_score\n",
    "\n",
    "scores = cross_val_score(dt, train_input, train_target, scoring=\"accuracy\", cv=3)\n",
    "\n",
    "for iter_count, accuracy in enumerate(scores):\n",
    "    print(\"교차 검증 {0} 정확도: {1:.4f}\".format(iter_count, accuracy))\n",
    "\n",
    "print(\"평균 검증 정확도\", np.round(np.mean(scores), 4))"
   ]
  },
  {
   "cell_type": "code",
   "execution_count": 1066,
   "metadata": {},
   "outputs": [
    {
     "name": "stdout",
     "output_type": "stream",
     "text": [
      "평균 검증 정확도 0.9399999999999998 4\n"
     ]
    }
   ],
   "source": [
    "# cross_validate\n",
    "from sklearn.model_selection import cross_validate\n",
    "scores = cross_validate(dt, train_input, train_target)\n",
    "print(\"평균 검증 정확도\", np.mean(scores['test_score']), 4)"
   ]
  },
  {
   "cell_type": "code",
   "execution_count": 1067,
   "metadata": {},
   "outputs": [
    {
     "name": "stdout",
     "output_type": "stream",
     "text": [
      "평균 검증 정확도 0.9400000000000001 4\n"
     ]
    }
   ],
   "source": [
    "# StratifiedKFold\n",
    "from sklearn.model_selection import KFold\n",
    "splitter = KFold(n_splits=10, shuffle=True, random_state=11)\n",
    "scores = cross_validate(dt, train_input, train_target, cv=splitter)\n",
    "\n",
    "print(\"평균 검증 정확도\", np.mean(scores['test_score']), 4)"
   ]
  },
  {
   "cell_type": "code",
   "execution_count": 1068,
   "metadata": {},
   "outputs": [
    {
     "data": {
      "image/png": "[encoded data removed]",
      "text/plain": [
       "<Figure size 1440x1080 with 1 Axes>"
      ]
     },
     "metadata": {},
     "output_type": "display_data"
    }
   ],
   "source": [
    "# 결정트리 시각화\n",
    "import matplotlib.pyplot as plt\n",
    "from sklearn.tree import plot_tree\n",
    "%matplotlib inline\n",
    "\n",
    "plt.rcParams['axes.unicode_minus'] = False\n",
    "plt.rcParams[\"font.family\"] = \"Malgun Gothic\"\n",
    "\n",
    "target_name = [\"terrible\", \"bad\", \"good\", \"best\"]\n",
    "\n",
    "plt.figure(figsize=(20,15))\n",
    "plot_tree(dt, class_names=target_name, filled=True, feature_names=data.columns)\n",
    "plt.show()"
   ]
  },
  {
   "cell_type": "code",
   "execution_count": 1070,
   "metadata": {},
   "outputs": [
    {
     "data": {
      "text/plain": [
       "<AxesSubplot:xlabel='펀드우수', ylabel='count'>"
      ]
     },
     "execution_count": 1070,
     "metadata": {},
     "output_type": "execute_result"
    },
    {
     "data": {
      "image/png": "[encoded data removed]",
      "text/plain": [
       "<Figure size 432x288 with 1 Axes>"
      ]
     },
     "metadata": {},
     "output_type": "display_data"
    }
   ],
   "source": [
    "import seaborn as sns\n",
    "\n",
    "sns.countplot(x=\"펀드우수\", data=stock_fund, palette=\"hls\")"
   ]
  },
  {
   "cell_type": "code",
   "execution_count": null,
   "metadata": {},
   "outputs": [],
   "source": []
  }
 ],
 "metadata": {
  "kernelspec": {
   "display_name": "Python 3.6.13 ('py36_32')",
   "language": "python",
   "name": "python3"
  },
  "language_info": {
   "codemirror_mode": {
    "name": "ipython",
    "version": 3
   },
   "file_extension": ".py",
   "mimetype": "text/x-python",
   "name": "python",
   "nbconvert_exporter": "python",
   "pygments_lexer": "ipython3",
   "version": "3.6.13"
  },
  "orig_nbformat": 4,
  "vscode": {
   "interpreter": {
    "hash": "ba7d2eaf24240d4d0efcaaa0db9aafb35c78134223cce72547df26cade581e6c"
   }
  }
 },
 "nbformat": 4,
 "nbformat_minor": 2
}
