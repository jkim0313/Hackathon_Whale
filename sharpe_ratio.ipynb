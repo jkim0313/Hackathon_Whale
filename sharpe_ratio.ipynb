{
 "cells": [
  {
   "cell_type": "code",
   "execution_count": 1,
   "metadata": {},
   "outputs": [],
   "source": [
    "import pandas as pd"
   ]
  },
  {
   "cell_type": "code",
   "execution_count": 132,
   "metadata": {},
   "outputs": [
    {
     "data": {
      "text/html": [
       "<div>\n",
       "<style scoped>\n",
       "    .dataframe tbody tr th:only-of-type {\n",
       "        vertical-align: middle;\n",
       "    }\n",
       "\n",
       "    .dataframe tbody tr th {\n",
       "        vertical-align: top;\n",
       "    }\n",
       "\n",
       "    .dataframe thead th {\n",
       "        text-align: right;\n",
       "    }\n",
       "</style>\n",
       "<table border=\"1\" class=\"dataframe\">\n",
       "  <thead>\n",
       "    <tr style=\"text-align: right;\">\n",
       "      <th></th>\n",
       "      <th>Unnamed: 0</th>\n",
       "      <th>펀드명</th>\n",
       "      <th>1개월 수익률</th>\n",
       "      <th>3개월 수익률</th>\n",
       "      <th>6개월 수익률</th>\n",
       "      <th>9개월 수익률</th>\n",
       "      <th>1년 수익률</th>\n",
       "      <th>2년 수익률</th>\n",
       "      <th>3년 수익률</th>\n",
       "      <th>5년 수익률</th>\n",
       "    </tr>\n",
       "  </thead>\n",
       "  <tbody>\n",
       "    <tr>\n",
       "      <th>0</th>\n",
       "      <td>0</td>\n",
       "      <td>골든브릿지레인보우중소성장기업증권투자신탁(사모투자재간접형)</td>\n",
       "      <td>-8.26</td>\n",
       "      <td>-9.54</td>\n",
       "      <td>-15.29</td>\n",
       "      <td>-10.04</td>\n",
       "      <td>-7.08</td>\n",
       "      <td>19.63</td>\n",
       "      <td>0.00</td>\n",
       "      <td>0.00</td>\n",
       "    </tr>\n",
       "    <tr>\n",
       "      <th>1</th>\n",
       "      <td>1</td>\n",
       "      <td>교보악사Hi-Korea적립식멀티증권투자신탁K- 1(주식)(운용)</td>\n",
       "      <td>-12.01</td>\n",
       "      <td>-13.47</td>\n",
       "      <td>-17.70</td>\n",
       "      <td>-16.71</td>\n",
       "      <td>-20.27</td>\n",
       "      <td>19.30</td>\n",
       "      <td>19.81</td>\n",
       "      <td>9.75</td>\n",
       "    </tr>\n",
       "    <tr>\n",
       "      <th>2</th>\n",
       "      <td>2</td>\n",
       "      <td>교보악사Hi-Korea적립식멀티증권투자신탁K- 1Af(주식)</td>\n",
       "      <td>-12.03</td>\n",
       "      <td>-13.54</td>\n",
       "      <td>-17.83</td>\n",
       "      <td>-16.91</td>\n",
       "      <td>-20.52</td>\n",
       "      <td>18.59</td>\n",
       "      <td>18.74</td>\n",
       "      <td>8.10</td>\n",
       "    </tr>\n",
       "    <tr>\n",
       "      <th>3</th>\n",
       "      <td>3</td>\n",
       "      <td>교보악사Hi-Korea적립식멀티증권투자신탁K- 1e(주식)</td>\n",
       "      <td>-12.07</td>\n",
       "      <td>-13.66</td>\n",
       "      <td>-18.04</td>\n",
       "      <td>-17.23</td>\n",
       "      <td>-20.93</td>\n",
       "      <td>17.43</td>\n",
       "      <td>17.01</td>\n",
       "      <td>5.49</td>\n",
       "    </tr>\n",
       "    <tr>\n",
       "      <th>4</th>\n",
       "      <td>4</td>\n",
       "      <td>교보악사그린디지털목표전환증권투자신탁[주식](운용)</td>\n",
       "      <td>-21.49</td>\n",
       "      <td>-25.73</td>\n",
       "      <td>0.00</td>\n",
       "      <td>0.00</td>\n",
       "      <td>0.00</td>\n",
       "      <td>0.00</td>\n",
       "      <td>0.00</td>\n",
       "      <td>0.00</td>\n",
       "    </tr>\n",
       "  </tbody>\n",
       "</table>\n",
       "</div>"
      ],
      "text/plain": [
       "   Unnamed: 0                                  펀드명  1개월 수익률  3개월 수익률  6개월 수익률  \\\n",
       "0           0      골든브릿지레인보우중소성장기업증권투자신탁(사모투자재간접형)    -8.26    -9.54   -15.29   \n",
       "1           1  교보악사Hi-Korea적립식멀티증권투자신탁K- 1(주식)(운용)   -12.01   -13.47   -17.70   \n",
       "2           2    교보악사Hi-Korea적립식멀티증권투자신탁K- 1Af(주식)   -12.03   -13.54   -17.83   \n",
       "3           3     교보악사Hi-Korea적립식멀티증권투자신탁K- 1e(주식)   -12.07   -13.66   -18.04   \n",
       "4           4          교보악사그린디지털목표전환증권투자신탁[주식](운용)   -21.49   -25.73     0.00   \n",
       "\n",
       "   9개월 수익률  1년 수익률  2년 수익률  3년 수익률  5년 수익률  \n",
       "0   -10.04   -7.08   19.63    0.00    0.00  \n",
       "1   -16.71  -20.27   19.30   19.81    9.75  \n",
       "2   -16.91  -20.52   18.59   18.74    8.10  \n",
       "3   -17.23  -20.93   17.43   17.01    5.49  \n",
       "4     0.00    0.00    0.00    0.00    0.00  "
      ]
     },
     "execution_count": 132,
     "metadata": {},
     "output_type": "execute_result"
    }
   ],
   "source": [
    "stock_fund_general = pd.read_excel('./excel/주식고편입형_일반_수익률.xls')\n",
    "stock_fund_general.head()"
   ]
  },
  {
   "cell_type": "code",
   "execution_count": 133,
   "metadata": {},
   "outputs": [],
   "source": [
    "stock_fund_general.drop(\"Unnamed: 0\", axis=1, inplace=True)"
   ]
  },
  {
   "cell_type": "markdown",
   "metadata": {},
   "source": [
    "#### 샤프지수 : (펀드수익률 - 무위험수익률(=CD90일 금리))/위험(=펀드수익률의 표준편차)"
   ]
  },
  {
   "cell_type": "code",
   "execution_count": 134,
   "metadata": {},
   "outputs": [
    {
     "data": {
      "text/plain": [
       "0.023399999999999997"
      ]
     },
     "execution_count": 134,
     "metadata": {},
     "output_type": "execute_result"
    }
   ],
   "source": [
    "# 7월 CD90일 금리\n",
    "cd_rate_07 = 2.34/100\n",
    "cd_rate_07"
   ]
  },
  {
   "cell_type": "code",
   "execution_count": 135,
   "metadata": {},
   "outputs": [
    {
     "data": {
      "text/plain": [
       "0      -0.0826\n",
       "1      -0.1201\n",
       "2      -0.1203\n",
       "3      -0.1207\n",
       "4      -0.2149\n",
       "         ...  \n",
       "1666   -0.1237\n",
       "1667   -0.1245\n",
       "1668   -0.1247\n",
       "1669   -0.1235\n",
       "1670   -0.1240\n",
       "Name: 1개월 수익률, Length: 1671, dtype: float64"
      ]
     },
     "execution_count": 135,
     "metadata": {},
     "output_type": "execute_result"
    }
   ],
   "source": [
    "stock_fund_general[\"1개월 수익률\"] = stock_fund_general[\"1개월 수익률\"]/100\n",
    "stock_fund_general[\"1개월 수익률\"]"
   ]
  },
  {
   "cell_type": "code",
   "execution_count": 136,
   "metadata": {},
   "outputs": [
    {
     "data": {
      "text/plain": [
       "0      -0.1060\n",
       "1      -0.1435\n",
       "2      -0.1437\n",
       "3      -0.1441\n",
       "4      -0.2383\n",
       "         ...  \n",
       "1666   -0.1471\n",
       "1667   -0.1479\n",
       "1668   -0.1481\n",
       "1669   -0.1469\n",
       "1670   -0.1474\n",
       "Name: 1개월 수익률, Length: 1671, dtype: float64"
      ]
     },
     "execution_count": 136,
     "metadata": {},
     "output_type": "execute_result"
    }
   ],
   "source": [
    "stock_fund_general[\"1개월 수익률\"]-cd_rate_07"
   ]
  },
  {
   "cell_type": "code",
   "execution_count": 137,
   "metadata": {},
   "outputs": [
    {
     "data": {
      "text/plain": [
       "0.02888738851960271"
      ]
     },
     "execution_count": 137,
     "metadata": {},
     "output_type": "execute_result"
    }
   ],
   "source": [
    "import numpy as np\n",
    "np.std(stock_fund_general[\"1개월 수익률\"])"
   ]
  },
  {
   "cell_type": "code",
   "execution_count": 138,
   "metadata": {},
   "outputs": [
    {
     "data": {
      "text/plain": [
       "0      -3.669421\n",
       "1      -4.967566\n",
       "2      -4.974489\n",
       "3      -4.988336\n",
       "4      -8.249275\n",
       "          ...   \n",
       "1666   -5.092188\n",
       "1667   -5.119881\n",
       "1668   -5.126805\n",
       "1669   -5.085264\n",
       "1670   -5.102573\n",
       "Name: 1개월 샤프지수, Length: 1671, dtype: float64"
      ]
     },
     "execution_count": 138,
     "metadata": {},
     "output_type": "execute_result"
    }
   ],
   "source": [
    "stock_fund_general[\"1개월 샤프지수\"] = ((stock_fund_general[\"1개월 수익률\"])-cd_rate_07)/np.std(stock_fund_general[\"1개월 수익률\"])\n",
    "stock_fund_general[\"1개월 샤프지수\"]"
   ]
  },
  {
   "cell_type": "code",
   "execution_count": 153,
   "metadata": {},
   "outputs": [
    {
     "data": {
      "text/plain": [
       "0      -1.491805e-14\n",
       "1       6.233278e-01\n",
       "2       5.178415e-01\n",
       "3       3.509815e-01\n",
       "4      -1.491805e-14\n",
       "            ...     \n",
       "1666    9.634410e-01\n",
       "1667    5.613146e-01\n",
       "1668    4.922691e-01\n",
       "1669    5.868871e-01\n",
       "1670    8.355789e-01\n",
       "Name: 5년 샤프지수, Length: 1671, dtype: float64"
      ]
     },
     "execution_count": 153,
     "metadata": {},
     "output_type": "execute_result"
    }
   ],
   "source": [
    "stock_fund_general[\"5년 샤프지수\"] = (stock_fund_general[\"5년 수익률\"]-cd_rate_07**np.sqrt(60))/np.std(stock_fund_general[\"5년 수익률\"])\n",
    "stock_fund_general[\"5년 샤프지수\"]"
   ]
  },
  {
   "cell_type": "code",
   "execution_count": 140,
   "metadata": {},
   "outputs": [
    {
     "data": {
      "text/plain": [
       "Index(['펀드명', '1개월 수익률', '3개월 수익률', '6개월 수익률', '9개월 수익률', '1년 수익률', '2년 수익률',\n",
       "       '3년 수익률', '5년 수익률', '1개월 샤프지수', '3개월 샤프지수'],\n",
       "      dtype='object')"
      ]
     },
     "execution_count": 140,
     "metadata": {},
     "output_type": "execute_result"
    }
   ],
   "source": [
    "stock_fund_general.columns"
   ]
  },
  {
   "cell_type": "code",
   "execution_count": 141,
   "metadata": {},
   "outputs": [
    {
     "data": {
      "text/plain": [
       "Index(['1개월 수익률', '3개월 수익률', '6개월 수익률', '9개월 수익률', '1년 수익률', '2년 수익률',\n",
       "       '3년 수익률', '5년 수익률'],\n",
       "      dtype='object')"
      ]
     },
     "execution_count": 141,
     "metadata": {},
     "output_type": "execute_result"
    }
   ],
   "source": [
    "# 기간 컬럼명\n",
    "return_columns = stock_fund_general.columns[1:9]\n",
    "return_columns"
   ]
  },
  {
   "cell_type": "code",
   "execution_count": 142,
   "metadata": {},
   "outputs": [],
   "source": [
    "# import numpy as np\n",
    "\n",
    "# for column in return_columns:\n",
    "#     stock_fund_general[column[:3] + \" 샤프지수\"] = (stock_fund_general[column]-cd_rate_07)/np.std(stock_fund_general[column])"
   ]
  },
  {
   "cell_type": "code",
   "execution_count": 156,
   "metadata": {},
   "outputs": [
    {
     "data": {
      "text/html": [
       "<div>\n",
       "<style scoped>\n",
       "    .dataframe tbody tr th:only-of-type {\n",
       "        vertical-align: middle;\n",
       "    }\n",
       "\n",
       "    .dataframe tbody tr th {\n",
       "        vertical-align: top;\n",
       "    }\n",
       "\n",
       "    .dataframe thead th {\n",
       "        text-align: right;\n",
       "    }\n",
       "</style>\n",
       "<table border=\"1\" class=\"dataframe\">\n",
       "  <thead>\n",
       "    <tr style=\"text-align: right;\">\n",
       "      <th></th>\n",
       "      <th>펀드명</th>\n",
       "      <th>1개월 수익률</th>\n",
       "      <th>3개월 수익률</th>\n",
       "      <th>6개월 수익률</th>\n",
       "      <th>9개월 수익률</th>\n",
       "      <th>1년 수익률</th>\n",
       "      <th>2년 수익률</th>\n",
       "      <th>3년 수익률</th>\n",
       "      <th>5년 수익률</th>\n",
       "      <th>1개월 샤프지수</th>\n",
       "      <th>3개월 샤프지수</th>\n",
       "      <th>6개월 샤프지수</th>\n",
       "      <th>9개월 샤프지수</th>\n",
       "      <th>1년 샤프지수</th>\n",
       "      <th>2년 샤프지수</th>\n",
       "      <th>3년 샤프지수</th>\n",
       "      <th>5년 샤프지수</th>\n",
       "    </tr>\n",
       "  </thead>\n",
       "  <tbody>\n",
       "    <tr>\n",
       "      <th>0</th>\n",
       "      <td>골든브릿지레인보우중소성장기업증권투자신탁(사모투자재간접형)</td>\n",
       "      <td>-0.0826</td>\n",
       "      <td>-9.54</td>\n",
       "      <td>-15.29</td>\n",
       "      <td>-10.04</td>\n",
       "      <td>-7.08</td>\n",
       "      <td>19.63</td>\n",
       "      <td>0.00</td>\n",
       "      <td>0.00</td>\n",
       "      <td>-3.669421</td>\n",
       "      <td>-2.234137</td>\n",
       "      <td>-2.321014</td>\n",
       "      <td>-1.526223</td>\n",
       "      <td>-8.855028e-01</td>\n",
       "      <td>1.400752e+00</td>\n",
       "      <td>-1.039189e-11</td>\n",
       "      <td>-1.491805e-14</td>\n",
       "    </tr>\n",
       "    <tr>\n",
       "      <th>1</th>\n",
       "      <td>교보악사Hi-Korea적립식멀티증권투자신탁K- 1(주식)(운용)</td>\n",
       "      <td>-0.1201</td>\n",
       "      <td>-13.47</td>\n",
       "      <td>-17.70</td>\n",
       "      <td>-16.71</td>\n",
       "      <td>-20.27</td>\n",
       "      <td>19.30</td>\n",
       "      <td>19.81</td>\n",
       "      <td>9.75</td>\n",
       "      <td>-4.967566</td>\n",
       "      <td>-3.154345</td>\n",
       "      <td>-2.686848</td>\n",
       "      <td>-2.540156</td>\n",
       "      <td>-2.535189e+00</td>\n",
       "      <td>1.377204e+00</td>\n",
       "      <td>1.253960e+00</td>\n",
       "      <td>6.233278e-01</td>\n",
       "    </tr>\n",
       "    <tr>\n",
       "      <th>2</th>\n",
       "      <td>교보악사Hi-Korea적립식멀티증권투자신탁K- 1Af(주식)</td>\n",
       "      <td>-0.1203</td>\n",
       "      <td>-13.54</td>\n",
       "      <td>-17.83</td>\n",
       "      <td>-16.91</td>\n",
       "      <td>-20.52</td>\n",
       "      <td>18.59</td>\n",
       "      <td>18.74</td>\n",
       "      <td>8.10</td>\n",
       "      <td>-4.974489</td>\n",
       "      <td>-3.170735</td>\n",
       "      <td>-2.706582</td>\n",
       "      <td>-2.570559</td>\n",
       "      <td>-2.566457e+00</td>\n",
       "      <td>1.326540e+00</td>\n",
       "      <td>1.186230e+00</td>\n",
       "      <td>5.178415e-01</td>\n",
       "    </tr>\n",
       "    <tr>\n",
       "      <th>3</th>\n",
       "      <td>교보악사Hi-Korea적립식멀티증권투자신탁K- 1e(주식)</td>\n",
       "      <td>-0.1207</td>\n",
       "      <td>-13.66</td>\n",
       "      <td>-18.04</td>\n",
       "      <td>-17.23</td>\n",
       "      <td>-20.93</td>\n",
       "      <td>17.43</td>\n",
       "      <td>17.01</td>\n",
       "      <td>5.49</td>\n",
       "      <td>-4.988336</td>\n",
       "      <td>-3.198833</td>\n",
       "      <td>-2.738460</td>\n",
       "      <td>-2.619203</td>\n",
       "      <td>-2.617736e+00</td>\n",
       "      <td>1.243765e+00</td>\n",
       "      <td>1.076722e+00</td>\n",
       "      <td>3.509815e-01</td>\n",
       "    </tr>\n",
       "    <tr>\n",
       "      <th>4</th>\n",
       "      <td>교보악사그린디지털목표전환증권투자신탁[주식](운용)</td>\n",
       "      <td>-0.2149</td>\n",
       "      <td>-25.73</td>\n",
       "      <td>0.00</td>\n",
       "      <td>0.00</td>\n",
       "      <td>0.00</td>\n",
       "      <td>0.00</td>\n",
       "      <td>0.00</td>\n",
       "      <td>0.00</td>\n",
       "      <td>-8.249275</td>\n",
       "      <td>-6.025018</td>\n",
       "      <td>-0.000015</td>\n",
       "      <td>-0.000002</td>\n",
       "      <td>-2.805140e-07</td>\n",
       "      <td>-7.315818e-10</td>\n",
       "      <td>-1.039189e-11</td>\n",
       "      <td>-1.491805e-14</td>\n",
       "    </tr>\n",
       "    <tr>\n",
       "      <th>5</th>\n",
       "      <td>교보악사그린디지털증권모투자신탁[주식]</td>\n",
       "      <td>-0.2189</td>\n",
       "      <td>-26.31</td>\n",
       "      <td>-34.22</td>\n",
       "      <td>-25.37</td>\n",
       "      <td>-24.87</td>\n",
       "      <td>23.87</td>\n",
       "      <td>15.36</td>\n",
       "      <td>17.69</td>\n",
       "      <td>-8.387743</td>\n",
       "      <td>-6.160825</td>\n",
       "      <td>-5.194559</td>\n",
       "      <td>-3.856597</td>\n",
       "      <td>-3.110516e+00</td>\n",
       "      <td>1.703309e+00</td>\n",
       "      <td>9.722779e-01</td>\n",
       "      <td>1.130940e+00</td>\n",
       "    </tr>\n",
       "    <tr>\n",
       "      <th>6</th>\n",
       "      <td>교보악사그린디지털증권자투자신탁2[주식]</td>\n",
       "      <td>-0.2081</td>\n",
       "      <td>-25.08</td>\n",
       "      <td>-32.51</td>\n",
       "      <td>-23.94</td>\n",
       "      <td>-23.49</td>\n",
       "      <td>21.85</td>\n",
       "      <td>13.64</td>\n",
       "      <td>15.75</td>\n",
       "      <td>-8.013878</td>\n",
       "      <td>-5.872821</td>\n",
       "      <td>-4.934983</td>\n",
       "      <td>-3.639217</td>\n",
       "      <td>-2.937918e+00</td>\n",
       "      <td>1.559166e+00</td>\n",
       "      <td>8.634030e-01</td>\n",
       "      <td>1.006914e+00</td>\n",
       "    </tr>\n",
       "    <tr>\n",
       "      <th>7</th>\n",
       "      <td>교보악사그린디지털증권자투자신탁[주식](운용)</td>\n",
       "      <td>-0.2076</td>\n",
       "      <td>-25.02</td>\n",
       "      <td>-32.71</td>\n",
       "      <td>-23.29</td>\n",
       "      <td>-23.41</td>\n",
       "      <td>22.99</td>\n",
       "      <td>15.33</td>\n",
       "      <td>17.03</td>\n",
       "      <td>-7.996569</td>\n",
       "      <td>-5.858772</td>\n",
       "      <td>-4.965343</td>\n",
       "      <td>-3.540408</td>\n",
       "      <td>-2.927912e+00</td>\n",
       "      <td>1.640514e+00</td>\n",
       "      <td>9.703789e-01</td>\n",
       "      <td>1.088746e+00</td>\n",
       "    </tr>\n",
       "    <tr>\n",
       "      <th>8</th>\n",
       "      <td>교보악사그린디지털증권자투자신탁[주식]C3</td>\n",
       "      <td>-0.2085</td>\n",
       "      <td>-25.27</td>\n",
       "      <td>-33.13</td>\n",
       "      <td>-24.74</td>\n",
       "      <td>0.00</td>\n",
       "      <td>-33.64</td>\n",
       "      <td>-24.40</td>\n",
       "      <td>-39.37</td>\n",
       "      <td>-8.027725</td>\n",
       "      <td>-5.917309</td>\n",
       "      <td>-5.029098</td>\n",
       "      <td>-3.760828</td>\n",
       "      <td>-2.805140e-07</td>\n",
       "      <td>-2.400474e+00</td>\n",
       "      <td>-1.544504e+00</td>\n",
       "      <td>-2.516966e+00</td>\n",
       "    </tr>\n",
       "    <tr>\n",
       "      <th>9</th>\n",
       "      <td>교보악사위대한중소형밸류증권모투자신탁 1(주식)</td>\n",
       "      <td>-0.1331</td>\n",
       "      <td>-19.51</td>\n",
       "      <td>-24.73</td>\n",
       "      <td>-26.02</td>\n",
       "      <td>-25.57</td>\n",
       "      <td>24.71</td>\n",
       "      <td>18.90</td>\n",
       "      <td>27.20</td>\n",
       "      <td>-5.417589</td>\n",
       "      <td>-4.568608</td>\n",
       "      <td>-3.753991</td>\n",
       "      <td>-3.955406</td>\n",
       "      <td>-3.198065e+00</td>\n",
       "      <td>1.763249e+00</td>\n",
       "      <td>1.196358e+00</td>\n",
       "      <td>1.738925e+00</td>\n",
       "    </tr>\n",
       "  </tbody>\n",
       "</table>\n",
       "</div>"
      ],
      "text/plain": [
       "                                   펀드명  1개월 수익률  3개월 수익률  6개월 수익률  9개월 수익률  \\\n",
       "0      골든브릿지레인보우중소성장기업증권투자신탁(사모투자재간접형)  -0.0826    -9.54   -15.29   -10.04   \n",
       "1  교보악사Hi-Korea적립식멀티증권투자신탁K- 1(주식)(운용)  -0.1201   -13.47   -17.70   -16.71   \n",
       "2    교보악사Hi-Korea적립식멀티증권투자신탁K- 1Af(주식)  -0.1203   -13.54   -17.83   -16.91   \n",
       "3     교보악사Hi-Korea적립식멀티증권투자신탁K- 1e(주식)  -0.1207   -13.66   -18.04   -17.23   \n",
       "4          교보악사그린디지털목표전환증권투자신탁[주식](운용)  -0.2149   -25.73     0.00     0.00   \n",
       "5                 교보악사그린디지털증권모투자신탁[주식]  -0.2189   -26.31   -34.22   -25.37   \n",
       "6                교보악사그린디지털증권자투자신탁2[주식]  -0.2081   -25.08   -32.51   -23.94   \n",
       "7             교보악사그린디지털증권자투자신탁[주식](운용)  -0.2076   -25.02   -32.71   -23.29   \n",
       "8               교보악사그린디지털증권자투자신탁[주식]C3  -0.2085   -25.27   -33.13   -24.74   \n",
       "9            교보악사위대한중소형밸류증권모투자신탁 1(주식)  -0.1331   -19.51   -24.73   -26.02   \n",
       "\n",
       "   1년 수익률  2년 수익률  3년 수익률  5년 수익률  1개월 샤프지수  3개월 샤프지수  6개월 샤프지수  9개월 샤프지수  \\\n",
       "0   -7.08   19.63    0.00    0.00 -3.669421 -2.234137 -2.321014 -1.526223   \n",
       "1  -20.27   19.30   19.81    9.75 -4.967566 -3.154345 -2.686848 -2.540156   \n",
       "2  -20.52   18.59   18.74    8.10 -4.974489 -3.170735 -2.706582 -2.570559   \n",
       "3  -20.93   17.43   17.01    5.49 -4.988336 -3.198833 -2.738460 -2.619203   \n",
       "4    0.00    0.00    0.00    0.00 -8.249275 -6.025018 -0.000015 -0.000002   \n",
       "5  -24.87   23.87   15.36   17.69 -8.387743 -6.160825 -5.194559 -3.856597   \n",
       "6  -23.49   21.85   13.64   15.75 -8.013878 -5.872821 -4.934983 -3.639217   \n",
       "7  -23.41   22.99   15.33   17.03 -7.996569 -5.858772 -4.965343 -3.540408   \n",
       "8    0.00  -33.64  -24.40  -39.37 -8.027725 -5.917309 -5.029098 -3.760828   \n",
       "9  -25.57   24.71   18.90   27.20 -5.417589 -4.568608 -3.753991 -3.955406   \n",
       "\n",
       "        1년 샤프지수       2년 샤프지수       3년 샤프지수       5년 샤프지수  \n",
       "0 -8.855028e-01  1.400752e+00 -1.039189e-11 -1.491805e-14  \n",
       "1 -2.535189e+00  1.377204e+00  1.253960e+00  6.233278e-01  \n",
       "2 -2.566457e+00  1.326540e+00  1.186230e+00  5.178415e-01  \n",
       "3 -2.617736e+00  1.243765e+00  1.076722e+00  3.509815e-01  \n",
       "4 -2.805140e-07 -7.315818e-10 -1.039189e-11 -1.491805e-14  \n",
       "5 -3.110516e+00  1.703309e+00  9.722779e-01  1.130940e+00  \n",
       "6 -2.937918e+00  1.559166e+00  8.634030e-01  1.006914e+00  \n",
       "7 -2.927912e+00  1.640514e+00  9.703789e-01  1.088746e+00  \n",
       "8 -2.805140e-07 -2.400474e+00 -1.544504e+00 -2.516966e+00  \n",
       "9 -3.198065e+00  1.763249e+00  1.196358e+00  1.738925e+00  "
      ]
     },
     "execution_count": 156,
     "metadata": {},
     "output_type": "execute_result"
    }
   ],
   "source": [
    "stock_fund_general.head(10)"
   ]
  },
  {
   "cell_type": "code",
   "execution_count": 158,
   "metadata": {},
   "outputs": [
    {
     "data": {
      "text/html": [
       "<div>\n",
       "<style scoped>\n",
       "    .dataframe tbody tr th:only-of-type {\n",
       "        vertical-align: middle;\n",
       "    }\n",
       "\n",
       "    .dataframe tbody tr th {\n",
       "        vertical-align: top;\n",
       "    }\n",
       "\n",
       "    .dataframe thead th {\n",
       "        text-align: right;\n",
       "    }\n",
       "</style>\n",
       "<table border=\"1\" class=\"dataframe\">\n",
       "  <thead>\n",
       "    <tr style=\"text-align: right;\">\n",
       "      <th></th>\n",
       "      <th>펀드명</th>\n",
       "      <th>1개월 수익률</th>\n",
       "      <th>3개월 수익률</th>\n",
       "      <th>6개월 수익률</th>\n",
       "      <th>9개월 수익률</th>\n",
       "      <th>1년 수익률</th>\n",
       "      <th>2년 수익률</th>\n",
       "      <th>3년 수익률</th>\n",
       "      <th>5년 수익률</th>\n",
       "      <th>1개월 샤프지수</th>\n",
       "      <th>3개월 샤프지수</th>\n",
       "      <th>6개월 샤프지수</th>\n",
       "      <th>9개월 샤프지수</th>\n",
       "      <th>1년 샤프지수</th>\n",
       "      <th>2년 샤프지수</th>\n",
       "      <th>3년 샤프지수</th>\n",
       "      <th>5년 샤프지수</th>\n",
       "    </tr>\n",
       "  </thead>\n",
       "  <tbody>\n",
       "    <tr>\n",
       "      <th>66</th>\n",
       "      <td>마이다스거북이90증권자투자신탁 1(주식)(운용)</td>\n",
       "      <td>0.0098</td>\n",
       "      <td>2.77</td>\n",
       "      <td>1.72</td>\n",
       "      <td>8.85</td>\n",
       "      <td>14.54</td>\n",
       "      <td>36.0</td>\n",
       "      <td>39.97</td>\n",
       "      <td>33.87</td>\n",
       "      <td>-0.470794</td>\n",
       "      <td>0.648244</td>\n",
       "      <td>0.261078</td>\n",
       "      <td>1.345322</td>\n",
       "      <td>1.818532</td>\n",
       "      <td>2.568878</td>\n",
       "      <td>2.530075</td>\n",
       "      <td>2.165345</td>\n",
       "    </tr>\n",
       "  </tbody>\n",
       "</table>\n",
       "</div>"
      ],
      "text/plain": [
       "                           펀드명  1개월 수익률  3개월 수익률  6개월 수익률  9개월 수익률  1년 수익률  \\\n",
       "66  마이다스거북이90증권자투자신탁 1(주식)(운용)   0.0098     2.77     1.72     8.85   14.54   \n",
       "\n",
       "    2년 수익률  3년 수익률  5년 수익률  1개월 샤프지수  3개월 샤프지수  6개월 샤프지수  9개월 샤프지수   1년 샤프지수  \\\n",
       "66    36.0   39.97   33.87 -0.470794  0.648244  0.261078  1.345322  1.818532   \n",
       "\n",
       "     2년 샤프지수   3년 샤프지수   5년 샤프지수  \n",
       "66  2.568878  2.530075  2.165345  "
      ]
     },
     "execution_count": 158,
     "metadata": {},
     "output_type": "execute_result"
    }
   ],
   "source": [
    "max_sharpe = stock_fund_general.loc[stock_fund_general[\"1년 샤프지수\"] == stock_fund_general[\"1년 샤프지수\"].max()]\n",
    "max_sharpe "
   ]
  },
  {
   "cell_type": "code",
   "execution_count": 170,
   "metadata": {},
   "outputs": [
    {
     "name": "stdout",
     "output_type": "stream",
     "text": [
      "-inf\n"
     ]
    },
    {
     "name": "stderr",
     "output_type": "stream",
     "text": [
      "d:\\anaconda3\\envs\\py36_32\\lib\\site-packages\\ipykernel_launcher.py:3: RuntimeWarning: divide by zero encountered in double_scalars\n",
      "  This is separate from the ipykernel package so we can avoid doing imports until\n"
     ]
    }
   ],
   "source": [
    "a = -0.0585 # 3개월 수익률\n",
    "b = 0.02345**np.sqrt(3) # CD90일 금리\n",
    "c = (a-b)/np.std(b)\n",
    "print(c)"
   ]
  },
  {
   "cell_type": "code",
   "execution_count": 174,
   "metadata": {},
   "outputs": [
    {
     "data": {
      "text/plain": [
       "0.816496580927726"
      ]
     },
     "execution_count": 174,
     "metadata": {},
     "output_type": "execute_result"
    }
   ],
   "source": []
  },
  {
   "cell_type": "code",
   "execution_count": 306,
   "metadata": {},
   "outputs": [
    {
     "data": {
      "text/html": [
       "<div>\n",
       "<style scoped>\n",
       "    .dataframe tbody tr th:only-of-type {\n",
       "        vertical-align: middle;\n",
       "    }\n",
       "\n",
       "    .dataframe tbody tr th {\n",
       "        vertical-align: top;\n",
       "    }\n",
       "\n",
       "    .dataframe thead th {\n",
       "        text-align: right;\n",
       "    }\n",
       "</style>\n",
       "<table border=\"1\" class=\"dataframe\">\n",
       "  <thead>\n",
       "    <tr style=\"text-align: right;\">\n",
       "      <th></th>\n",
       "      <th>Unnamed: 0</th>\n",
       "      <th>2019-07-26</th>\n",
       "      <th>2019-07-27</th>\n",
       "      <th>2019-07-28</th>\n",
       "      <th>2019-07-29</th>\n",
       "      <th>2019-07-30</th>\n",
       "      <th>2019-07-31</th>\n",
       "      <th>2019-08-01</th>\n",
       "      <th>2019-08-02</th>\n",
       "      <th>2019-08-03</th>\n",
       "      <th>...</th>\n",
       "      <th>2022-07-17</th>\n",
       "      <th>2022-07-18</th>\n",
       "      <th>2022-07-19</th>\n",
       "      <th>2022-07-20</th>\n",
       "      <th>2022-07-21</th>\n",
       "      <th>2022-07-22</th>\n",
       "      <th>2022-07-23</th>\n",
       "      <th>2022-07-24</th>\n",
       "      <th>2022-07-25</th>\n",
       "      <th>2022-07-26</th>\n",
       "    </tr>\n",
       "  </thead>\n",
       "  <tbody>\n",
       "    <tr>\n",
       "      <th>0</th>\n",
       "      <td>투자수익률</td>\n",
       "      <td>0</td>\n",
       "      <td>0</td>\n",
       "      <td>0.01</td>\n",
       "      <td>0.08</td>\n",
       "      <td>0.03</td>\n",
       "      <td>0.14</td>\n",
       "      <td>0.06</td>\n",
       "      <td>0.36</td>\n",
       "      <td>0.37</td>\n",
       "      <td>...</td>\n",
       "      <td>-4.59</td>\n",
       "      <td>-4.85</td>\n",
       "      <td>-4.72</td>\n",
       "      <td>-5.22</td>\n",
       "      <td>-5.26</td>\n",
       "      <td>-4.93</td>\n",
       "      <td>-4.92</td>\n",
       "      <td>-4.91</td>\n",
       "      <td>-4.48</td>\n",
       "      <td>-4.37</td>\n",
       "    </tr>\n",
       "    <tr>\n",
       "      <th>1</th>\n",
       "      <td>비교지수</td>\n",
       "      <td>0</td>\n",
       "      <td>0</td>\n",
       "      <td>0.01</td>\n",
       "      <td>0.08</td>\n",
       "      <td>0.04</td>\n",
       "      <td>0.16</td>\n",
       "      <td>0.08</td>\n",
       "      <td>0.39</td>\n",
       "      <td>0.39</td>\n",
       "      <td>...</td>\n",
       "      <td>-4.34</td>\n",
       "      <td>-4.63</td>\n",
       "      <td>-4.54</td>\n",
       "      <td>-4.98</td>\n",
       "      <td>-5.00</td>\n",
       "      <td>-4.72</td>\n",
       "      <td>-4.71</td>\n",
       "      <td>-4.70</td>\n",
       "      <td>-4.30</td>\n",
       "      <td>-4.20</td>\n",
       "    </tr>\n",
       "  </tbody>\n",
       "</table>\n",
       "<p>2 rows × 1061 columns</p>\n",
       "</div>"
      ],
      "text/plain": [
       "  Unnamed: 0  2019-07-26  2019-07-27  2019-07-28  2019-07-29  2019-07-30  \\\n",
       "0      투자수익률           0           0        0.01        0.08        0.03   \n",
       "1       비교지수           0           0        0.01        0.08        0.04   \n",
       "\n",
       "   2019-07-31  2019-08-01  2019-08-02  2019-08-03  ...  2022-07-17  \\\n",
       "0        0.14        0.06        0.36        0.37  ...       -4.59   \n",
       "1        0.16        0.08        0.39        0.39  ...       -4.34   \n",
       "\n",
       "   2022-07-18  2022-07-19  2022-07-20  2022-07-21  2022-07-22  2022-07-23  \\\n",
       "0       -4.85       -4.72       -5.22       -5.26       -4.93       -4.92   \n",
       "1       -4.63       -4.54       -4.98       -5.00       -4.72       -4.71   \n",
       "\n",
       "   2022-07-24  2022-07-25  2022-07-26  \n",
       "0       -4.91       -4.48       -4.37  \n",
       "1       -4.70       -4.30       -4.20  \n",
       "\n",
       "[2 rows x 1061 columns]"
      ]
     },
     "execution_count": 306,
     "metadata": {},
     "output_type": "execute_result"
    }
   ],
   "source": [
    "import pandas as pd\n",
    "\n",
    "df = pd.read_csv('./csv/tui-chart.csv')\n",
    "df"
   ]
  },
  {
   "cell_type": "code",
   "execution_count": 307,
   "metadata": {},
   "outputs": [
    {
     "data": {
      "text/html": [
       "<div>\n",
       "<style scoped>\n",
       "    .dataframe tbody tr th:only-of-type {\n",
       "        vertical-align: middle;\n",
       "    }\n",
       "\n",
       "    .dataframe tbody tr th {\n",
       "        vertical-align: top;\n",
       "    }\n",
       "\n",
       "    .dataframe thead th {\n",
       "        text-align: right;\n",
       "    }\n",
       "</style>\n",
       "<table border=\"1\" class=\"dataframe\">\n",
       "  <thead>\n",
       "    <tr style=\"text-align: right;\">\n",
       "      <th></th>\n",
       "      <th>통계표</th>\n",
       "      <th>계정항목</th>\n",
       "      <th>단위</th>\n",
       "      <th>변환</th>\n",
       "      <th>2021/07/01</th>\n",
       "      <th>2021/07/02</th>\n",
       "      <th>2021/07/05</th>\n",
       "      <th>2021/07/06</th>\n",
       "      <th>2021/07/07</th>\n",
       "      <th>2021/07/08</th>\n",
       "      <th>...</th>\n",
       "      <th>2022/06/20</th>\n",
       "      <th>2022/06/21</th>\n",
       "      <th>2022/06/22</th>\n",
       "      <th>2022/06/23</th>\n",
       "      <th>2022/06/24</th>\n",
       "      <th>2022/06/27</th>\n",
       "      <th>2022/06/28</th>\n",
       "      <th>2022/06/29</th>\n",
       "      <th>2022/06/30</th>\n",
       "      <th>2022/07/01</th>\n",
       "    </tr>\n",
       "  </thead>\n",
       "  <tbody>\n",
       "    <tr>\n",
       "      <th>0</th>\n",
       "      <td>1.3.2.1. 시장금리(일별)</td>\n",
       "      <td>CD(91일)</td>\n",
       "      <td>연%</td>\n",
       "      <td>원자료</td>\n",
       "      <td>0.69</td>\n",
       "      <td>0.69</td>\n",
       "      <td>0.69</td>\n",
       "      <td>0.69</td>\n",
       "      <td>0.69</td>\n",
       "      <td>0.69</td>\n",
       "      <td>...</td>\n",
       "      <td>1.99</td>\n",
       "      <td>1.99</td>\n",
       "      <td>2.0</td>\n",
       "      <td>2.0</td>\n",
       "      <td>2.0</td>\n",
       "      <td>2.0</td>\n",
       "      <td>2.02</td>\n",
       "      <td>2.04</td>\n",
       "      <td>2.04</td>\n",
       "      <td>2.05</td>\n",
       "    </tr>\n",
       "  </tbody>\n",
       "</table>\n",
       "<p>1 rows × 252 columns</p>\n",
       "</div>"
      ],
      "text/plain": [
       "                 통계표     계정항목  단위   변환  2021/07/01  2021/07/02  2021/07/05  \\\n",
       "0  1.3.2.1. 시장금리(일별)  CD(91일)  연%  원자료        0.69        0.69        0.69   \n",
       "\n",
       "   2021/07/06  2021/07/07  2021/07/08  ...  2022/06/20  2022/06/21  \\\n",
       "0        0.69        0.69        0.69  ...        1.99        1.99   \n",
       "\n",
       "   2022/06/22  2022/06/23  2022/06/24  2022/06/27  2022/06/28  2022/06/29  \\\n",
       "0         2.0         2.0         2.0         2.0        2.02        2.04   \n",
       "\n",
       "   2022/06/30  2022/07/01  \n",
       "0        2.04        2.05  \n",
       "\n",
       "[1 rows x 252 columns]"
      ]
     },
     "execution_count": 307,
     "metadata": {},
     "output_type": "execute_result"
    }
   ],
   "source": [
    "df2 = pd.read_csv('./csv/시장금리(일별)_27194352.csv')\n",
    "df2"
   ]
  },
  {
   "cell_type": "code",
   "execution_count": 308,
   "metadata": {},
   "outputs": [],
   "source": [
    "df = df.transpose()"
   ]
  },
  {
   "cell_type": "code",
   "execution_count": 309,
   "metadata": {},
   "outputs": [],
   "source": [
    "df2 = df2.transpose()"
   ]
  },
  {
   "cell_type": "code",
   "execution_count": 310,
   "metadata": {},
   "outputs": [],
   "source": [
    "df.rename(columns=df.iloc[0], inplace=True)\n",
    "df = df.drop(df.index[0])"
   ]
  },
  {
   "cell_type": "code",
   "execution_count": 311,
   "metadata": {},
   "outputs": [],
   "source": [
    "df2.rename(columns=df2.iloc[0], inplace=True)\n",
    "df2 = df2.drop(df2.index[0])"
   ]
  },
  {
   "cell_type": "code",
   "execution_count": 312,
   "metadata": {},
   "outputs": [],
   "source": [
    "df.reset_index(inplace=True)"
   ]
  },
  {
   "cell_type": "code",
   "execution_count": 313,
   "metadata": {},
   "outputs": [],
   "source": [
    "df2.reset_index(inplace=True)"
   ]
  },
  {
   "cell_type": "code",
   "execution_count": 314,
   "metadata": {},
   "outputs": [],
   "source": [
    "df.rename(columns={\"index\" : \"날짜\"}, inplace=True)"
   ]
  },
  {
   "cell_type": "code",
   "execution_count": 315,
   "metadata": {},
   "outputs": [],
   "source": [
    "df = df.query(\"날짜>='2021-07-01' and 날짜 <='2022-07-01'\")"
   ]
  },
  {
   "cell_type": "code",
   "execution_count": 316,
   "metadata": {},
   "outputs": [],
   "source": [
    "df.reset_index(drop=True, inplace=True)"
   ]
  },
  {
   "cell_type": "code",
   "execution_count": 317,
   "metadata": {},
   "outputs": [
    {
     "data": {
      "text/html": [
       "<div>\n",
       "<style scoped>\n",
       "    .dataframe tbody tr th:only-of-type {\n",
       "        vertical-align: middle;\n",
       "    }\n",
       "\n",
       "    .dataframe tbody tr th {\n",
       "        vertical-align: top;\n",
       "    }\n",
       "\n",
       "    .dataframe thead th {\n",
       "        text-align: right;\n",
       "    }\n",
       "</style>\n",
       "<table border=\"1\" class=\"dataframe\">\n",
       "  <thead>\n",
       "    <tr style=\"text-align: right;\">\n",
       "      <th></th>\n",
       "      <th>날짜</th>\n",
       "      <th>투자수익률</th>\n",
       "      <th>비교지수</th>\n",
       "    </tr>\n",
       "  </thead>\n",
       "  <tbody>\n",
       "    <tr>\n",
       "      <th>0</th>\n",
       "      <td>2021-07-01</td>\n",
       "      <td>0.11</td>\n",
       "      <td>-0.26</td>\n",
       "    </tr>\n",
       "    <tr>\n",
       "      <th>1</th>\n",
       "      <td>2021-07-02</td>\n",
       "      <td>0.1</td>\n",
       "      <td>-0.26</td>\n",
       "    </tr>\n",
       "    <tr>\n",
       "      <th>2</th>\n",
       "      <td>2021-07-03</td>\n",
       "      <td>0.1</td>\n",
       "      <td>-0.26</td>\n",
       "    </tr>\n",
       "    <tr>\n",
       "      <th>3</th>\n",
       "      <td>2021-07-04</td>\n",
       "      <td>0.11</td>\n",
       "      <td>-0.25</td>\n",
       "    </tr>\n",
       "    <tr>\n",
       "      <th>4</th>\n",
       "      <td>2021-07-05</td>\n",
       "      <td>0.23</td>\n",
       "      <td>-0.13</td>\n",
       "    </tr>\n",
       "    <tr>\n",
       "      <th>...</th>\n",
       "      <td>...</td>\n",
       "      <td>...</td>\n",
       "      <td>...</td>\n",
       "    </tr>\n",
       "    <tr>\n",
       "      <th>356</th>\n",
       "      <td>2022-06-27</td>\n",
       "      <td>-6.89</td>\n",
       "      <td>-6.61</td>\n",
       "    </tr>\n",
       "    <tr>\n",
       "      <th>357</th>\n",
       "      <td>2022-06-28</td>\n",
       "      <td>-6.79</td>\n",
       "      <td>-6.51</td>\n",
       "    </tr>\n",
       "    <tr>\n",
       "      <th>358</th>\n",
       "      <td>2022-06-29</td>\n",
       "      <td>-6.73</td>\n",
       "      <td>-6.49</td>\n",
       "    </tr>\n",
       "    <tr>\n",
       "      <th>359</th>\n",
       "      <td>2022-06-30</td>\n",
       "      <td>-6.58</td>\n",
       "      <td>-6.34</td>\n",
       "    </tr>\n",
       "    <tr>\n",
       "      <th>360</th>\n",
       "      <td>2022-07-01</td>\n",
       "      <td>-5.95</td>\n",
       "      <td>-5.72</td>\n",
       "    </tr>\n",
       "  </tbody>\n",
       "</table>\n",
       "<p>361 rows × 3 columns</p>\n",
       "</div>"
      ],
      "text/plain": [
       "             날짜 투자수익률  비교지수\n",
       "0    2021-07-01  0.11 -0.26\n",
       "1    2021-07-02   0.1 -0.26\n",
       "2    2021-07-03   0.1 -0.26\n",
       "3    2021-07-04  0.11 -0.25\n",
       "4    2021-07-05  0.23 -0.13\n",
       "..          ...   ...   ...\n",
       "356  2022-06-27 -6.89 -6.61\n",
       "357  2022-06-28 -6.79 -6.51\n",
       "358  2022-06-29 -6.73 -6.49\n",
       "359  2022-06-30 -6.58 -6.34\n",
       "360  2022-07-01 -5.95 -5.72\n",
       "\n",
       "[361 rows x 3 columns]"
      ]
     },
     "execution_count": 317,
     "metadata": {},
     "output_type": "execute_result"
    }
   ],
   "source": [
    "df"
   ]
  },
  {
   "cell_type": "code",
   "execution_count": 318,
   "metadata": {},
   "outputs": [],
   "source": [
    "df[\"날짜\"] = pd.to_datetime(df[\"날짜\"])"
   ]
  },
  {
   "cell_type": "code",
   "execution_count": 319,
   "metadata": {},
   "outputs": [],
   "source": [
    "df.drop([\"비교지수\"], axis=1, inplace=True)"
   ]
  },
  {
   "cell_type": "code",
   "execution_count": 320,
   "metadata": {},
   "outputs": [],
   "source": [
    "df2.columns = [\"날짜\", \"CD금리\"]"
   ]
  },
  {
   "cell_type": "code",
   "execution_count": 321,
   "metadata": {},
   "outputs": [],
   "source": [
    "df2 = df2.loc[3:]"
   ]
  },
  {
   "cell_type": "code",
   "execution_count": 322,
   "metadata": {},
   "outputs": [],
   "source": [
    "df2.reset_index(drop=True, inplace=True)"
   ]
  },
  {
   "cell_type": "code",
   "execution_count": 323,
   "metadata": {},
   "outputs": [
    {
     "data": {
      "text/html": [
       "<div>\n",
       "<style scoped>\n",
       "    .dataframe tbody tr th:only-of-type {\n",
       "        vertical-align: middle;\n",
       "    }\n",
       "\n",
       "    .dataframe tbody tr th {\n",
       "        vertical-align: top;\n",
       "    }\n",
       "\n",
       "    .dataframe thead th {\n",
       "        text-align: right;\n",
       "    }\n",
       "</style>\n",
       "<table border=\"1\" class=\"dataframe\">\n",
       "  <thead>\n",
       "    <tr style=\"text-align: right;\">\n",
       "      <th></th>\n",
       "      <th>날짜</th>\n",
       "      <th>CD금리</th>\n",
       "    </tr>\n",
       "  </thead>\n",
       "  <tbody>\n",
       "    <tr>\n",
       "      <th>0</th>\n",
       "      <td>2021/07/01</td>\n",
       "      <td>0.69</td>\n",
       "    </tr>\n",
       "    <tr>\n",
       "      <th>1</th>\n",
       "      <td>2021/07/02</td>\n",
       "      <td>0.69</td>\n",
       "    </tr>\n",
       "    <tr>\n",
       "      <th>2</th>\n",
       "      <td>2021/07/05</td>\n",
       "      <td>0.69</td>\n",
       "    </tr>\n",
       "    <tr>\n",
       "      <th>3</th>\n",
       "      <td>2021/07/06</td>\n",
       "      <td>0.69</td>\n",
       "    </tr>\n",
       "    <tr>\n",
       "      <th>4</th>\n",
       "      <td>2021/07/07</td>\n",
       "      <td>0.69</td>\n",
       "    </tr>\n",
       "    <tr>\n",
       "      <th>...</th>\n",
       "      <td>...</td>\n",
       "      <td>...</td>\n",
       "    </tr>\n",
       "    <tr>\n",
       "      <th>243</th>\n",
       "      <td>2022/06/27</td>\n",
       "      <td>2</td>\n",
       "    </tr>\n",
       "    <tr>\n",
       "      <th>244</th>\n",
       "      <td>2022/06/28</td>\n",
       "      <td>2.02</td>\n",
       "    </tr>\n",
       "    <tr>\n",
       "      <th>245</th>\n",
       "      <td>2022/06/29</td>\n",
       "      <td>2.04</td>\n",
       "    </tr>\n",
       "    <tr>\n",
       "      <th>246</th>\n",
       "      <td>2022/06/30</td>\n",
       "      <td>2.04</td>\n",
       "    </tr>\n",
       "    <tr>\n",
       "      <th>247</th>\n",
       "      <td>2022/07/01</td>\n",
       "      <td>2.05</td>\n",
       "    </tr>\n",
       "  </tbody>\n",
       "</table>\n",
       "<p>248 rows × 2 columns</p>\n",
       "</div>"
      ],
      "text/plain": [
       "             날짜  CD금리\n",
       "0    2021/07/01  0.69\n",
       "1    2021/07/02  0.69\n",
       "2    2021/07/05  0.69\n",
       "3    2021/07/06  0.69\n",
       "4    2021/07/07  0.69\n",
       "..          ...   ...\n",
       "243  2022/06/27     2\n",
       "244  2022/06/28  2.02\n",
       "245  2022/06/29  2.04\n",
       "246  2022/06/30  2.04\n",
       "247  2022/07/01  2.05\n",
       "\n",
       "[248 rows x 2 columns]"
      ]
     },
     "execution_count": 323,
     "metadata": {},
     "output_type": "execute_result"
    }
   ],
   "source": [
    "df2"
   ]
  },
  {
   "cell_type": "code",
   "execution_count": 324,
   "metadata": {},
   "outputs": [],
   "source": [
    "df[\"날짜\"] = df[\"날짜\"].astype(str)"
   ]
  },
  {
   "cell_type": "code",
   "execution_count": 325,
   "metadata": {},
   "outputs": [],
   "source": [
    "df2[\"날짜\"] = df2[\"날짜\"].astype(str)\n",
    "df2[\"날짜\"] = df2[\"날짜\"].str.replace(\"/\",\"-\")"
   ]
  },
  {
   "cell_type": "code",
   "execution_count": 293,
   "metadata": {},
   "outputs": [],
   "source": [
    "merge = pd.merge(df, df2, on=\"날짜\", how=\"left\")"
   ]
  },
  {
   "cell_type": "code",
   "execution_count": 294,
   "metadata": {},
   "outputs": [
    {
     "data": {
      "text/html": [
       "<div>\n",
       "<style scoped>\n",
       "    .dataframe tbody tr th:only-of-type {\n",
       "        vertical-align: middle;\n",
       "    }\n",
       "\n",
       "    .dataframe tbody tr th {\n",
       "        vertical-align: top;\n",
       "    }\n",
       "\n",
       "    .dataframe thead th {\n",
       "        text-align: right;\n",
       "    }\n",
       "</style>\n",
       "<table border=\"1\" class=\"dataframe\">\n",
       "  <thead>\n",
       "    <tr style=\"text-align: right;\">\n",
       "      <th></th>\n",
       "      <th>날짜</th>\n",
       "      <th>투자수익률</th>\n",
       "      <th>CD금리</th>\n",
       "    </tr>\n",
       "  </thead>\n",
       "  <tbody>\n",
       "    <tr>\n",
       "      <th>0</th>\n",
       "      <td>2021-07-01</td>\n",
       "      <td>0.11</td>\n",
       "      <td>0.69</td>\n",
       "    </tr>\n",
       "    <tr>\n",
       "      <th>1</th>\n",
       "      <td>2021-07-02</td>\n",
       "      <td>0.1</td>\n",
       "      <td>0.69</td>\n",
       "    </tr>\n",
       "    <tr>\n",
       "      <th>2</th>\n",
       "      <td>2021-07-03</td>\n",
       "      <td>0.1</td>\n",
       "      <td>0.69</td>\n",
       "    </tr>\n",
       "    <tr>\n",
       "      <th>3</th>\n",
       "      <td>2021-07-04</td>\n",
       "      <td>0.11</td>\n",
       "      <td>0.69</td>\n",
       "    </tr>\n",
       "    <tr>\n",
       "      <th>4</th>\n",
       "      <td>2021-07-05</td>\n",
       "      <td>0.23</td>\n",
       "      <td>0.69</td>\n",
       "    </tr>\n",
       "    <tr>\n",
       "      <th>...</th>\n",
       "      <td>...</td>\n",
       "      <td>...</td>\n",
       "      <td>...</td>\n",
       "    </tr>\n",
       "    <tr>\n",
       "      <th>356</th>\n",
       "      <td>2022-06-27</td>\n",
       "      <td>-6.89</td>\n",
       "      <td>NaN</td>\n",
       "    </tr>\n",
       "    <tr>\n",
       "      <th>357</th>\n",
       "      <td>2022-06-28</td>\n",
       "      <td>-6.79</td>\n",
       "      <td>NaN</td>\n",
       "    </tr>\n",
       "    <tr>\n",
       "      <th>358</th>\n",
       "      <td>2022-06-29</td>\n",
       "      <td>-6.73</td>\n",
       "      <td>NaN</td>\n",
       "    </tr>\n",
       "    <tr>\n",
       "      <th>359</th>\n",
       "      <td>2022-06-30</td>\n",
       "      <td>-6.58</td>\n",
       "      <td>NaN</td>\n",
       "    </tr>\n",
       "    <tr>\n",
       "      <th>360</th>\n",
       "      <td>2022-07-01</td>\n",
       "      <td>-5.95</td>\n",
       "      <td>NaN</td>\n",
       "    </tr>\n",
       "  </tbody>\n",
       "</table>\n",
       "<p>361 rows × 3 columns</p>\n",
       "</div>"
      ],
      "text/plain": [
       "            날짜 투자수익률  CD금리\n",
       "0   2021-07-01  0.11  0.69\n",
       "1   2021-07-02   0.1  0.69\n",
       "2   2021-07-03   0.1  0.69\n",
       "3   2021-07-04  0.11  0.69\n",
       "4   2021-07-05  0.23  0.69\n",
       "..         ...   ...   ...\n",
       "356 2022-06-27 -6.89   NaN\n",
       "357 2022-06-28 -6.79   NaN\n",
       "358 2022-06-29 -6.73   NaN\n",
       "359 2022-06-30 -6.58   NaN\n",
       "360 2022-07-01 -5.95   NaN\n",
       "\n",
       "[361 rows x 3 columns]"
      ]
     },
     "execution_count": 294,
     "metadata": {},
     "output_type": "execute_result"
    }
   ],
   "source": [
    "merge"
   ]
  },
  {
   "cell_type": "code",
   "execution_count": 330,
   "metadata": {},
   "outputs": [],
   "source": [
    "df.set_index([\"날짜\"], inplace=True)\n",
    "df2.set_index([\"날짜\"], inplace=True)\n"
   ]
  },
  {
   "cell_type": "code",
   "execution_count": 331,
   "metadata": {},
   "outputs": [],
   "source": [
    "df3 = df.copy()"
   ]
  },
  {
   "cell_type": "code",
   "execution_count": 332,
   "metadata": {},
   "outputs": [],
   "source": [
    "df3[\"CD금리\"] = df2[\"CD금리\"]"
   ]
  },
  {
   "cell_type": "code",
   "execution_count": 333,
   "metadata": {},
   "outputs": [
    {
     "data": {
      "text/html": [
       "<div>\n",
       "<style scoped>\n",
       "    .dataframe tbody tr th:only-of-type {\n",
       "        vertical-align: middle;\n",
       "    }\n",
       "\n",
       "    .dataframe tbody tr th {\n",
       "        vertical-align: top;\n",
       "    }\n",
       "\n",
       "    .dataframe thead th {\n",
       "        text-align: right;\n",
       "    }\n",
       "</style>\n",
       "<table border=\"1\" class=\"dataframe\">\n",
       "  <thead>\n",
       "    <tr style=\"text-align: right;\">\n",
       "      <th></th>\n",
       "      <th>투자수익률</th>\n",
       "      <th>CD금리</th>\n",
       "    </tr>\n",
       "    <tr>\n",
       "      <th>날짜</th>\n",
       "      <th></th>\n",
       "      <th></th>\n",
       "    </tr>\n",
       "  </thead>\n",
       "  <tbody>\n",
       "    <tr>\n",
       "      <th>2021-07-01</th>\n",
       "      <td>0.11</td>\n",
       "      <td>0.69</td>\n",
       "    </tr>\n",
       "    <tr>\n",
       "      <th>2021-07-02</th>\n",
       "      <td>0.1</td>\n",
       "      <td>0.69</td>\n",
       "    </tr>\n",
       "    <tr>\n",
       "      <th>2021-07-03</th>\n",
       "      <td>0.1</td>\n",
       "      <td>NaN</td>\n",
       "    </tr>\n",
       "    <tr>\n",
       "      <th>2021-07-04</th>\n",
       "      <td>0.11</td>\n",
       "      <td>NaN</td>\n",
       "    </tr>\n",
       "    <tr>\n",
       "      <th>2021-07-05</th>\n",
       "      <td>0.23</td>\n",
       "      <td>0.69</td>\n",
       "    </tr>\n",
       "    <tr>\n",
       "      <th>...</th>\n",
       "      <td>...</td>\n",
       "      <td>...</td>\n",
       "    </tr>\n",
       "    <tr>\n",
       "      <th>2022-06-27</th>\n",
       "      <td>-6.89</td>\n",
       "      <td>2</td>\n",
       "    </tr>\n",
       "    <tr>\n",
       "      <th>2022-06-28</th>\n",
       "      <td>-6.79</td>\n",
       "      <td>2.02</td>\n",
       "    </tr>\n",
       "    <tr>\n",
       "      <th>2022-06-29</th>\n",
       "      <td>-6.73</td>\n",
       "      <td>2.04</td>\n",
       "    </tr>\n",
       "    <tr>\n",
       "      <th>2022-06-30</th>\n",
       "      <td>-6.58</td>\n",
       "      <td>2.04</td>\n",
       "    </tr>\n",
       "    <tr>\n",
       "      <th>2022-07-01</th>\n",
       "      <td>-5.95</td>\n",
       "      <td>2.05</td>\n",
       "    </tr>\n",
       "  </tbody>\n",
       "</table>\n",
       "<p>361 rows × 2 columns</p>\n",
       "</div>"
      ],
      "text/plain": [
       "           투자수익률  CD금리\n",
       "날짜                    \n",
       "2021-07-01  0.11  0.69\n",
       "2021-07-02   0.1  0.69\n",
       "2021-07-03   0.1   NaN\n",
       "2021-07-04  0.11   NaN\n",
       "2021-07-05  0.23  0.69\n",
       "...          ...   ...\n",
       "2022-06-27 -6.89     2\n",
       "2022-06-28 -6.79  2.02\n",
       "2022-06-29 -6.73  2.04\n",
       "2022-06-30 -6.58  2.04\n",
       "2022-07-01 -5.95  2.05\n",
       "\n",
       "[361 rows x 2 columns]"
      ]
     },
     "execution_count": 333,
     "metadata": {},
     "output_type": "execute_result"
    }
   ],
   "source": [
    "df3"
   ]
  },
  {
   "cell_type": "code",
   "execution_count": 336,
   "metadata": {},
   "outputs": [
    {
     "data": {
      "text/html": [
       "<div>\n",
       "<style scoped>\n",
       "    .dataframe tbody tr th:only-of-type {\n",
       "        vertical-align: middle;\n",
       "    }\n",
       "\n",
       "    .dataframe tbody tr th {\n",
       "        vertical-align: top;\n",
       "    }\n",
       "\n",
       "    .dataframe thead th {\n",
       "        text-align: right;\n",
       "    }\n",
       "</style>\n",
       "<table border=\"1\" class=\"dataframe\">\n",
       "  <thead>\n",
       "    <tr style=\"text-align: right;\">\n",
       "      <th></th>\n",
       "      <th>투자수익률</th>\n",
       "      <th>CD금리</th>\n",
       "    </tr>\n",
       "    <tr>\n",
       "      <th>날짜</th>\n",
       "      <th></th>\n",
       "      <th></th>\n",
       "    </tr>\n",
       "  </thead>\n",
       "  <tbody>\n",
       "    <tr>\n",
       "      <th>2021-07-01</th>\n",
       "      <td>0.0011</td>\n",
       "      <td>0.69</td>\n",
       "    </tr>\n",
       "    <tr>\n",
       "      <th>2021-07-02</th>\n",
       "      <td>0.001</td>\n",
       "      <td>0.69</td>\n",
       "    </tr>\n",
       "    <tr>\n",
       "      <th>2021-07-03</th>\n",
       "      <td>0.001</td>\n",
       "      <td>NaN</td>\n",
       "    </tr>\n",
       "    <tr>\n",
       "      <th>2021-07-04</th>\n",
       "      <td>0.0011</td>\n",
       "      <td>NaN</td>\n",
       "    </tr>\n",
       "    <tr>\n",
       "      <th>2021-07-05</th>\n",
       "      <td>0.0023</td>\n",
       "      <td>0.69</td>\n",
       "    </tr>\n",
       "    <tr>\n",
       "      <th>...</th>\n",
       "      <td>...</td>\n",
       "      <td>...</td>\n",
       "    </tr>\n",
       "    <tr>\n",
       "      <th>2022-06-27</th>\n",
       "      <td>-0.0689</td>\n",
       "      <td>2</td>\n",
       "    </tr>\n",
       "    <tr>\n",
       "      <th>2022-06-28</th>\n",
       "      <td>-0.0679</td>\n",
       "      <td>2.02</td>\n",
       "    </tr>\n",
       "    <tr>\n",
       "      <th>2022-06-29</th>\n",
       "      <td>-0.0673</td>\n",
       "      <td>2.04</td>\n",
       "    </tr>\n",
       "    <tr>\n",
       "      <th>2022-06-30</th>\n",
       "      <td>-0.0658</td>\n",
       "      <td>2.04</td>\n",
       "    </tr>\n",
       "    <tr>\n",
       "      <th>2022-07-01</th>\n",
       "      <td>-0.0595</td>\n",
       "      <td>2.05</td>\n",
       "    </tr>\n",
       "  </tbody>\n",
       "</table>\n",
       "<p>361 rows × 2 columns</p>\n",
       "</div>"
      ],
      "text/plain": [
       "             투자수익률  CD금리\n",
       "날짜                      \n",
       "2021-07-01  0.0011  0.69\n",
       "2021-07-02   0.001  0.69\n",
       "2021-07-03   0.001   NaN\n",
       "2021-07-04  0.0011   NaN\n",
       "2021-07-05  0.0023  0.69\n",
       "...            ...   ...\n",
       "2022-06-27 -0.0689     2\n",
       "2022-06-28 -0.0679  2.02\n",
       "2022-06-29 -0.0673  2.04\n",
       "2022-06-30 -0.0658  2.04\n",
       "2022-07-01 -0.0595  2.05\n",
       "\n",
       "[361 rows x 2 columns]"
      ]
     },
     "execution_count": 336,
     "metadata": {},
     "output_type": "execute_result"
    }
   ],
   "source": [
    "df3[\"투자수익률\"] = df3[\"투자수익률\"]/100\n",
    "df3"
   ]
  },
  {
   "cell_type": "code",
   "execution_count": 342,
   "metadata": {},
   "outputs": [],
   "source": [
    "df3[\"CD금리\"] = df3[\"CD금리\"]/100"
   ]
  },
  {
   "cell_type": "code",
   "execution_count": 343,
   "metadata": {},
   "outputs": [
    {
     "data": {
      "text/html": [
       "<div>\n",
       "<style scoped>\n",
       "    .dataframe tbody tr th:only-of-type {\n",
       "        vertical-align: middle;\n",
       "    }\n",
       "\n",
       "    .dataframe tbody tr th {\n",
       "        vertical-align: top;\n",
       "    }\n",
       "\n",
       "    .dataframe thead th {\n",
       "        text-align: right;\n",
       "    }\n",
       "</style>\n",
       "<table border=\"1\" class=\"dataframe\">\n",
       "  <thead>\n",
       "    <tr style=\"text-align: right;\">\n",
       "      <th></th>\n",
       "      <th>투자수익률</th>\n",
       "      <th>CD금리</th>\n",
       "    </tr>\n",
       "    <tr>\n",
       "      <th>날짜</th>\n",
       "      <th></th>\n",
       "      <th></th>\n",
       "    </tr>\n",
       "  </thead>\n",
       "  <tbody>\n",
       "    <tr>\n",
       "      <th>2021-07-01</th>\n",
       "      <td>0.0011</td>\n",
       "      <td>0.0069</td>\n",
       "    </tr>\n",
       "    <tr>\n",
       "      <th>2021-07-02</th>\n",
       "      <td>0.001</td>\n",
       "      <td>0.0069</td>\n",
       "    </tr>\n",
       "    <tr>\n",
       "      <th>2021-07-03</th>\n",
       "      <td>0.001</td>\n",
       "      <td>0.0069</td>\n",
       "    </tr>\n",
       "    <tr>\n",
       "      <th>2021-07-04</th>\n",
       "      <td>0.0011</td>\n",
       "      <td>0.0069</td>\n",
       "    </tr>\n",
       "    <tr>\n",
       "      <th>2021-07-05</th>\n",
       "      <td>0.0023</td>\n",
       "      <td>0.0069</td>\n",
       "    </tr>\n",
       "    <tr>\n",
       "      <th>...</th>\n",
       "      <td>...</td>\n",
       "      <td>...</td>\n",
       "    </tr>\n",
       "    <tr>\n",
       "      <th>2022-06-27</th>\n",
       "      <td>-0.0689</td>\n",
       "      <td>0.0200</td>\n",
       "    </tr>\n",
       "    <tr>\n",
       "      <th>2022-06-28</th>\n",
       "      <td>-0.0679</td>\n",
       "      <td>0.0202</td>\n",
       "    </tr>\n",
       "    <tr>\n",
       "      <th>2022-06-29</th>\n",
       "      <td>-0.0673</td>\n",
       "      <td>0.0204</td>\n",
       "    </tr>\n",
       "    <tr>\n",
       "      <th>2022-06-30</th>\n",
       "      <td>-0.0658</td>\n",
       "      <td>0.0204</td>\n",
       "    </tr>\n",
       "    <tr>\n",
       "      <th>2022-07-01</th>\n",
       "      <td>-0.0595</td>\n",
       "      <td>0.0205</td>\n",
       "    </tr>\n",
       "  </tbody>\n",
       "</table>\n",
       "<p>361 rows × 2 columns</p>\n",
       "</div>"
      ],
      "text/plain": [
       "             투자수익률    CD금리\n",
       "날짜                        \n",
       "2021-07-01  0.0011  0.0069\n",
       "2021-07-02   0.001  0.0069\n",
       "2021-07-03   0.001  0.0069\n",
       "2021-07-04  0.0011  0.0069\n",
       "2021-07-05  0.0023  0.0069\n",
       "...            ...     ...\n",
       "2022-06-27 -0.0689  0.0200\n",
       "2022-06-28 -0.0679  0.0202\n",
       "2022-06-29 -0.0673  0.0204\n",
       "2022-06-30 -0.0658  0.0204\n",
       "2022-07-01 -0.0595  0.0205\n",
       "\n",
       "[361 rows x 2 columns]"
      ]
     },
     "execution_count": 343,
     "metadata": {},
     "output_type": "execute_result"
    }
   ],
   "source": [
    "df3[\"CD금리\"] = df3[\"CD금리\"].fillna(method=\"ffill\")\n",
    "df3"
   ]
  },
  {
   "cell_type": "code",
   "execution_count": 357,
   "metadata": {},
   "outputs": [
    {
     "data": {
      "text/html": [
       "<div>\n",
       "<style scoped>\n",
       "    .dataframe tbody tr th:only-of-type {\n",
       "        vertical-align: middle;\n",
       "    }\n",
       "\n",
       "    .dataframe tbody tr th {\n",
       "        vertical-align: top;\n",
       "    }\n",
       "\n",
       "    .dataframe thead th {\n",
       "        text-align: right;\n",
       "    }\n",
       "</style>\n",
       "<table border=\"1\" class=\"dataframe\">\n",
       "  <thead>\n",
       "    <tr style=\"text-align: right;\">\n",
       "      <th></th>\n",
       "      <th>투자수익률</th>\n",
       "      <th>CD금리</th>\n",
       "      <th>month</th>\n",
       "    </tr>\n",
       "    <tr>\n",
       "      <th>날짜</th>\n",
       "      <th></th>\n",
       "      <th></th>\n",
       "      <th></th>\n",
       "    </tr>\n",
       "  </thead>\n",
       "  <tbody>\n",
       "    <tr>\n",
       "      <th>2021-07-01</th>\n",
       "      <td>0.0011</td>\n",
       "      <td>0.0069</td>\n",
       "      <td>2021-07</td>\n",
       "    </tr>\n",
       "    <tr>\n",
       "      <th>2021-07-02</th>\n",
       "      <td>0.0010</td>\n",
       "      <td>0.0069</td>\n",
       "      <td>2021-07</td>\n",
       "    </tr>\n",
       "    <tr>\n",
       "      <th>2021-07-03</th>\n",
       "      <td>0.0010</td>\n",
       "      <td>0.0069</td>\n",
       "      <td>2021-07</td>\n",
       "    </tr>\n",
       "    <tr>\n",
       "      <th>2021-07-04</th>\n",
       "      <td>0.0011</td>\n",
       "      <td>0.0069</td>\n",
       "      <td>2021-07</td>\n",
       "    </tr>\n",
       "    <tr>\n",
       "      <th>2021-07-05</th>\n",
       "      <td>0.0023</td>\n",
       "      <td>0.0069</td>\n",
       "      <td>2021-07</td>\n",
       "    </tr>\n",
       "    <tr>\n",
       "      <th>...</th>\n",
       "      <td>...</td>\n",
       "      <td>...</td>\n",
       "      <td>...</td>\n",
       "    </tr>\n",
       "    <tr>\n",
       "      <th>2022-06-27</th>\n",
       "      <td>-0.0689</td>\n",
       "      <td>0.0200</td>\n",
       "      <td>2022-06</td>\n",
       "    </tr>\n",
       "    <tr>\n",
       "      <th>2022-06-28</th>\n",
       "      <td>-0.0679</td>\n",
       "      <td>0.0202</td>\n",
       "      <td>2022-06</td>\n",
       "    </tr>\n",
       "    <tr>\n",
       "      <th>2022-06-29</th>\n",
       "      <td>-0.0673</td>\n",
       "      <td>0.0204</td>\n",
       "      <td>2022-06</td>\n",
       "    </tr>\n",
       "    <tr>\n",
       "      <th>2022-06-30</th>\n",
       "      <td>-0.0658</td>\n",
       "      <td>0.0204</td>\n",
       "      <td>2022-06</td>\n",
       "    </tr>\n",
       "    <tr>\n",
       "      <th>2022-07-01</th>\n",
       "      <td>-0.0595</td>\n",
       "      <td>0.0205</td>\n",
       "      <td>2022-07</td>\n",
       "    </tr>\n",
       "  </tbody>\n",
       "</table>\n",
       "<p>361 rows × 3 columns</p>\n",
       "</div>"
      ],
      "text/plain": [
       "             투자수익률    CD금리    month\n",
       "날짜                                 \n",
       "2021-07-01  0.0011  0.0069  2021-07\n",
       "2021-07-02  0.0010  0.0069  2021-07\n",
       "2021-07-03  0.0010  0.0069  2021-07\n",
       "2021-07-04  0.0011  0.0069  2021-07\n",
       "2021-07-05  0.0023  0.0069  2021-07\n",
       "...            ...     ...      ...\n",
       "2022-06-27 -0.0689  0.0200  2022-06\n",
       "2022-06-28 -0.0679  0.0202  2022-06\n",
       "2022-06-29 -0.0673  0.0204  2022-06\n",
       "2022-06-30 -0.0658  0.0204  2022-06\n",
       "2022-07-01 -0.0595  0.0205  2022-07\n",
       "\n",
       "[361 rows x 3 columns]"
      ]
     },
     "execution_count": 357,
     "metadata": {},
     "output_type": "execute_result"
    }
   ],
   "source": [
    "# 날짜 인덱스에서 월만 추출\n",
    "df3[\"month\"] = df3.index.astype(str).str[:7]\n",
    "df3"
   ]
  },
  {
   "cell_type": "code",
   "execution_count": 363,
   "metadata": {},
   "outputs": [
    {
     "data": {
      "text/html": [
       "<div>\n",
       "<style scoped>\n",
       "    .dataframe tbody tr th:only-of-type {\n",
       "        vertical-align: middle;\n",
       "    }\n",
       "\n",
       "    .dataframe tbody tr th {\n",
       "        vertical-align: top;\n",
       "    }\n",
       "\n",
       "    .dataframe thead th {\n",
       "        text-align: right;\n",
       "    }\n",
       "</style>\n",
       "<table border=\"1\" class=\"dataframe\">\n",
       "  <thead>\n",
       "    <tr style=\"text-align: right;\">\n",
       "      <th></th>\n",
       "      <th>투자수익률</th>\n",
       "      <th>CD금리</th>\n",
       "    </tr>\n",
       "    <tr>\n",
       "      <th>month</th>\n",
       "      <th></th>\n",
       "      <th></th>\n",
       "    </tr>\n",
       "  </thead>\n",
       "  <tbody>\n",
       "    <tr>\n",
       "      <th>2021-07</th>\n",
       "      <td>0.2504</td>\n",
       "      <td>0.2151</td>\n",
       "    </tr>\n",
       "    <tr>\n",
       "      <th>2021-08</th>\n",
       "      <td>0.4045</td>\n",
       "      <td>0.2299</td>\n",
       "    </tr>\n",
       "    <tr>\n",
       "      <th>2021-09</th>\n",
       "      <td>0.2199</td>\n",
       "      <td>0.2847</td>\n",
       "    </tr>\n",
       "    <tr>\n",
       "      <th>2021-10</th>\n",
       "      <td>-0.2751</td>\n",
       "      <td>0.3118</td>\n",
       "    </tr>\n",
       "    <tr>\n",
       "      <th>2021-11</th>\n",
       "      <td>-0.2453</td>\n",
       "      <td>0.3510</td>\n",
       "    </tr>\n",
       "    <tr>\n",
       "      <th>2021-12</th>\n",
       "      <td>0.0525</td>\n",
       "      <td>0.3942</td>\n",
       "    </tr>\n",
       "    <tr>\n",
       "      <th>2022-01</th>\n",
       "      <td>-0.2850</td>\n",
       "      <td>0.4185</td>\n",
       "    </tr>\n",
       "    <tr>\n",
       "      <th>2022-02</th>\n",
       "      <td>-0.5225</td>\n",
       "      <td>0.4200</td>\n",
       "    </tr>\n",
       "    <tr>\n",
       "      <th>2022-03</th>\n",
       "      <td>-0.6425</td>\n",
       "      <td>0.4658</td>\n",
       "    </tr>\n",
       "    <tr>\n",
       "      <th>2022-04</th>\n",
       "      <td>-1.3485</td>\n",
       "      <td>0.4887</td>\n",
       "    </tr>\n",
       "    <tr>\n",
       "      <th>2022-05</th>\n",
       "      <td>-1.4586</td>\n",
       "      <td>0.5485</td>\n",
       "    </tr>\n",
       "    <tr>\n",
       "      <th>2022-06</th>\n",
       "      <td>-1.8764</td>\n",
       "      <td>0.5946</td>\n",
       "    </tr>\n",
       "    <tr>\n",
       "      <th>2022-07</th>\n",
       "      <td>-0.0595</td>\n",
       "      <td>0.0205</td>\n",
       "    </tr>\n",
       "  </tbody>\n",
       "</table>\n",
       "</div>"
      ],
      "text/plain": [
       "          투자수익률    CD금리\n",
       "month                  \n",
       "2021-07  0.2504  0.2151\n",
       "2021-08  0.4045  0.2299\n",
       "2021-09  0.2199  0.2847\n",
       "2021-10 -0.2751  0.3118\n",
       "2021-11 -0.2453  0.3510\n",
       "2021-12  0.0525  0.3942\n",
       "2022-01 -0.2850  0.4185\n",
       "2022-02 -0.5225  0.4200\n",
       "2022-03 -0.6425  0.4658\n",
       "2022-04 -1.3485  0.4887\n",
       "2022-05 -1.4586  0.5485\n",
       "2022-06 -1.8764  0.5946\n",
       "2022-07 -0.0595  0.0205"
      ]
     },
     "execution_count": 363,
     "metadata": {},
     "output_type": "execute_result"
    }
   ],
   "source": [
    "# 일별 수익률, CD금리의 합으로 월별 수익률, CD금리 계산\n",
    "monthly_return = df3.groupby([\"month\"]).sum()\n",
    "monthly_return"
   ]
  },
  {
   "cell_type": "code",
   "execution_count": 364,
   "metadata": {},
   "outputs": [
    {
     "data": {
      "text/plain": [
       "month\n",
       "2021-07    0.051637\n",
       "2021-08    0.255404\n",
       "2021-09   -0.094789\n",
       "2021-10   -0.858516\n",
       "2021-11   -0.872266\n",
       "2021-12   -0.499838\n",
       "2022-01   -1.029078\n",
       "2022-02   -1.378687\n",
       "2022-03   -1.621218\n",
       "2022-04   -2.687451\n",
       "2022-05   -2.935981\n",
       "2022-06   -3.614572\n",
       "2022-07   -0.117024\n",
       "dtype: float64"
      ]
     },
     "execution_count": 364,
     "metadata": {},
     "output_type": "execute_result"
    }
   ],
   "source": [
    "import numpy as np\n",
    "# 월별 샤프지수?\n",
    "(monthly_return[\"투자수익률\"]-monthly_return[\"CD금리\"])/np.std(monthly_return[\"투자수익률\"])"
   ]
  },
  {
   "cell_type": "code",
   "execution_count": 347,
   "metadata": {},
   "outputs": [],
   "source": [
    "df3[\"투자수익률\"] = df3[\"투자수익률\"].astype(float)"
   ]
  },
  {
   "cell_type": "code",
   "execution_count": 365,
   "metadata": {},
   "outputs": [
    {
     "name": "stderr",
     "output_type": "stream",
     "text": [
      "d:\\anaconda3\\envs\\py36_32\\lib\\site-packages\\pandas\\core\\series.py:726: RuntimeWarning: invalid value encountered in log1p\n",
      "  result = getattr(ufunc, method)(*inputs, **kwargs)\n"
     ]
    },
    {
     "data": {
      "text/plain": [
       "month\n",
       "2021-07    0.020115\n",
       "2021-08    0.264029\n",
       "2021-09   -0.206668\n",
       "2021-10   -1.523646\n",
       "2021-11   -1.521033\n",
       "2021-12   -0.825006\n",
       "2022-01   -1.813337\n",
       "2022-02   -2.787904\n",
       "2022-03   -3.594144\n",
       "2022-04         NaN\n",
       "2022-05         NaN\n",
       "2022-06         NaN\n",
       "2022-07   -0.196837\n",
       "dtype: float64"
      ]
     },
     "execution_count": 365,
     "metadata": {},
     "output_type": "execute_result"
    }
   ],
   "source": [
    "(np.log1p(monthly_return[\"투자수익률\"])-monthly_return[\"CD금리\"])/np.std(np.log1p(monthly_return[\"투자수익률\"]))"
   ]
  },
  {
   "cell_type": "code",
   "execution_count": 353,
   "metadata": {},
   "outputs": [],
   "source": [
    "import matplotlib.pyplot as plt\n",
    "import seaborn as sns"
   ]
  },
  {
   "cell_type": "code",
   "execution_count": 366,
   "metadata": {},
   "outputs": [
    {
     "name": "stderr",
     "output_type": "stream",
     "text": [
      "d:\\anaconda3\\envs\\py36_32\\lib\\site-packages\\seaborn\\distributions.py:2619: FutureWarning: `distplot` is a deprecated function and will be removed in a future version. Please adapt your code to use either `displot` (a figure-level function with similar flexibility) or `histplot` (an axes-level function for histograms).\n",
      "  warnings.warn(msg, FutureWarning)\n"
     ]
    },
    {
     "data": {
      "text/plain": [
       "<AxesSubplot:xlabel='투자수익률', ylabel='Density'>"
      ]
     },
     "execution_count": 366,
     "metadata": {},
     "output_type": "execute_result"
    },
    {
     "name": "stderr",
     "output_type": "stream",
     "text": [
      "d:\\anaconda3\\envs\\py36_32\\lib\\site-packages\\matplotlib\\backends\\backend_agg.py:238: RuntimeWarning: Glyph 53804 missing from current font.\n",
      "  font.set_text(s, 0.0, flags=flags)\n",
      "d:\\anaconda3\\envs\\py36_32\\lib\\site-packages\\matplotlib\\backends\\backend_agg.py:238: RuntimeWarning: Glyph 51088 missing from current font.\n",
      "  font.set_text(s, 0.0, flags=flags)\n",
      "d:\\anaconda3\\envs\\py36_32\\lib\\site-packages\\matplotlib\\backends\\backend_agg.py:238: RuntimeWarning: Glyph 49688 missing from current font.\n",
      "  font.set_text(s, 0.0, flags=flags)\n",
      "d:\\anaconda3\\envs\\py36_32\\lib\\site-packages\\matplotlib\\backends\\backend_agg.py:238: RuntimeWarning: Glyph 51061 missing from current font.\n",
      "  font.set_text(s, 0.0, flags=flags)\n",
      "d:\\anaconda3\\envs\\py36_32\\lib\\site-packages\\matplotlib\\backends\\backend_agg.py:238: RuntimeWarning: Glyph 47456 missing from current font.\n",
      "  font.set_text(s, 0.0, flags=flags)\n",
      "d:\\anaconda3\\envs\\py36_32\\lib\\site-packages\\matplotlib\\backends\\backend_agg.py:201: RuntimeWarning: Glyph 53804 missing from current font.\n",
      "  font.set_text(s, 0, flags=flags)\n",
      "d:\\anaconda3\\envs\\py36_32\\lib\\site-packages\\matplotlib\\backends\\backend_agg.py:201: RuntimeWarning: Glyph 51088 missing from current font.\n",
      "  font.set_text(s, 0, flags=flags)\n",
      "d:\\anaconda3\\envs\\py36_32\\lib\\site-packages\\matplotlib\\backends\\backend_agg.py:201: RuntimeWarning: Glyph 49688 missing from current font.\n",
      "  font.set_text(s, 0, flags=flags)\n",
      "d:\\anaconda3\\envs\\py36_32\\lib\\site-packages\\matplotlib\\backends\\backend_agg.py:201: RuntimeWarning: Glyph 51061 missing from current font.\n",
      "  font.set_text(s, 0, flags=flags)\n",
      "d:\\anaconda3\\envs\\py36_32\\lib\\site-packages\\matplotlib\\backends\\backend_agg.py:201: RuntimeWarning: Glyph 47456 missing from current font.\n",
      "  font.set_text(s, 0, flags=flags)\n"
     ]
    },
    {
     "data": {
      "image/png": "[encoded data removed]",
      "text/plain": [
       "<Figure size 432x288 with 1 Axes>"
      ]
     },
     "metadata": {},
     "output_type": "display_data"
    }
   ],
   "source": [
    "sns.distplot(monthly_return['투자수익률'])"
   ]
  },
  {
   "cell_type": "code",
   "execution_count": 367,
   "metadata": {},
   "outputs": [
    {
     "name": "stderr",
     "output_type": "stream",
     "text": [
      "d:\\anaconda3\\envs\\py36_32\\lib\\site-packages\\pandas\\core\\series.py:726: RuntimeWarning: invalid value encountered in log1p\n",
      "  result = getattr(ufunc, method)(*inputs, **kwargs)\n",
      "d:\\anaconda3\\envs\\py36_32\\lib\\site-packages\\seaborn\\distributions.py:2619: FutureWarning: `distplot` is a deprecated function and will be removed in a future version. Please adapt your code to use either `displot` (a figure-level function with similar flexibility) or `histplot` (an axes-level function for histograms).\n",
      "  warnings.warn(msg, FutureWarning)\n"
     ]
    },
    {
     "data": {
      "text/plain": [
       "<AxesSubplot:xlabel='투자수익률', ylabel='Density'>"
      ]
     },
     "execution_count": 367,
     "metadata": {},
     "output_type": "execute_result"
    },
    {
     "name": "stderr",
     "output_type": "stream",
     "text": [
      "d:\\anaconda3\\envs\\py36_32\\lib\\site-packages\\matplotlib\\backends\\backend_agg.py:238: RuntimeWarning: Glyph 53804 missing from current font.\n",
      "  font.set_text(s, 0.0, flags=flags)\n",
      "d:\\anaconda3\\envs\\py36_32\\lib\\site-packages\\matplotlib\\backends\\backend_agg.py:238: RuntimeWarning: Glyph 51088 missing from current font.\n",
      "  font.set_text(s, 0.0, flags=flags)\n",
      "d:\\anaconda3\\envs\\py36_32\\lib\\site-packages\\matplotlib\\backends\\backend_agg.py:238: RuntimeWarning: Glyph 49688 missing from current font.\n",
      "  font.set_text(s, 0.0, flags=flags)\n",
      "d:\\anaconda3\\envs\\py36_32\\lib\\site-packages\\matplotlib\\backends\\backend_agg.py:238: RuntimeWarning: Glyph 51061 missing from current font.\n",
      "  font.set_text(s, 0.0, flags=flags)\n",
      "d:\\anaconda3\\envs\\py36_32\\lib\\site-packages\\matplotlib\\backends\\backend_agg.py:238: RuntimeWarning: Glyph 47456 missing from current font.\n",
      "  font.set_text(s, 0.0, flags=flags)\n",
      "d:\\anaconda3\\envs\\py36_32\\lib\\site-packages\\matplotlib\\backends\\backend_agg.py:201: RuntimeWarning: Glyph 53804 missing from current font.\n",
      "  font.set_text(s, 0, flags=flags)\n",
      "d:\\anaconda3\\envs\\py36_32\\lib\\site-packages\\matplotlib\\backends\\backend_agg.py:201: RuntimeWarning: Glyph 51088 missing from current font.\n",
      "  font.set_text(s, 0, flags=flags)\n",
      "d:\\anaconda3\\envs\\py36_32\\lib\\site-packages\\matplotlib\\backends\\backend_agg.py:201: RuntimeWarning: Glyph 49688 missing from current font.\n",
      "  font.set_text(s, 0, flags=flags)\n",
      "d:\\anaconda3\\envs\\py36_32\\lib\\site-packages\\matplotlib\\backends\\backend_agg.py:201: RuntimeWarning: Glyph 51061 missing from current font.\n",
      "  font.set_text(s, 0, flags=flags)\n",
      "d:\\anaconda3\\envs\\py36_32\\lib\\site-packages\\matplotlib\\backends\\backend_agg.py:201: RuntimeWarning: Glyph 47456 missing from current font.\n",
      "  font.set_text(s, 0, flags=flags)\n"
     ]
    },
    {
     "data": {
      "image/png": "[encoded data removed]",
      "text/plain": [
       "<Figure size 432x288 with 1 Axes>"
      ]
     },
     "metadata": {},
     "output_type": "display_data"
    }
   ],
   "source": [
    "sns.distplot(np.log1p(monthly_return[\"투자수익률\"]))"
   ]
  },
  {
   "cell_type": "code",
   "execution_count": null,
   "metadata": {},
   "outputs": [],
   "source": []
  }
 ],
 "metadata": {
  "kernelspec": {
   "display_name": "Python 3.6.13 ('py36_32')",
   "language": "python",
   "name": "python3"
  },
  "language_info": {
   "codemirror_mode": {
    "name": "ipython",
    "version": 3
   },
   "file_extension": ".py",
   "mimetype": "text/x-python",
   "name": "python",
   "nbconvert_exporter": "python",
   "pygments_lexer": "ipython3",
   "version": "3.6.13"
  },
  "orig_nbformat": 4,
  "vscode": {
   "interpreter": {
    "hash": "ba7d2eaf24240d4d0efcaaa0db9aafb35c78134223cce72547df26cade581e6c"
   }
  }
 },
 "nbformat": 4,
 "nbformat_minor": 2
}
